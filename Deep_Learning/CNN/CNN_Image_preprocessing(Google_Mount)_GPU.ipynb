{
  "nbformat": 4,
  "nbformat_minor": 0,
  "metadata": {
    "colab": {
      "provenance": []
    },
    "kernelspec": {
      "name": "python3",
      "display_name": "Python 3"
    },
    "accelerator": "GPU",
    "gpuClass": "standard"
  },
  "cells": [
    {
      "cell_type": "markdown",
      "metadata": {
        "id": "q2Pr7oBdYLdf"
      },
      "source": [
        "# 이미지 데이터 셋을 이용한 CNN Modeling\n",
        "> # Google Drive Mount\n",
        "## Dogs and Cats Image_Data\n",
        "* Train_Data : 2000(1000_Dogs, 1000_Cats)\n",
        "* Valid_Data : 1000(500_Dogs, 500_Cats)\n",
        "* Test_Data : 1000(500_Dogs, 500_Cats)"
      ]
    },
    {
      "cell_type": "code",
      "metadata": {
        "id": "RbPgODpVzdHI"
      },
      "source": [
        "import warnings\n",
        "warnings.filterwarnings('ignore')"
      ],
      "execution_count": 1,
      "outputs": []
    },
    {
      "cell_type": "markdown",
      "metadata": {
        "id": "M9XBsS7QD8EU"
      },
      "source": [
        "## Import Tensorflow"
      ]
    },
    {
      "cell_type": "markdown",
      "metadata": {
        "id": "1jarjLPiQ8QJ"
      },
      "source": [
        "* import TensorFlow"
      ]
    },
    {
      "cell_type": "code",
      "metadata": {
        "id": "URmxW0HeGi0t",
        "colab": {
          "base_uri": "https://localhost:8080/",
          "height": 36
        },
        "outputId": "e2a972c4-110e-48fd-8f22-fa76ce1108d8"
      },
      "source": [
        "import tensorflow as tf\n",
        "\n",
        "tf.__version__"
      ],
      "execution_count": 2,
      "outputs": [
        {
          "output_type": "execute_result",
          "data": {
            "text/plain": [
              "'2.12.0'"
            ],
            "application/vnd.google.colaboratory.intrinsic+json": {
              "type": "string"
            }
          },
          "metadata": {},
          "execution_count": 2
        }
      ]
    },
    {
      "cell_type": "markdown",
      "metadata": {
        "id": "hp2jzMV4Eb0e"
      },
      "source": [
        "# I. Google Drive Mount\n",
        "* <font color = 'blue'>'dogs_and_cats_small.zip' 파일 다운로드</font>\n",
        " - https://drive.google.com/file/d/11afb-PJul1Qs7PqjAlXybMHKPRf_RD0l/view?usp=sharing"
      ]
    },
    {
      "cell_type": "code",
      "metadata": {
        "id": "EkooevWlEpae",
        "colab": {
          "base_uri": "https://localhost:8080/"
        },
        "outputId": "474c81d3-ff81-466e-afc9-4a305e23f5a7"
      },
      "source": [
        "from google.colab import drive\n",
        "\n",
        "drive.mount('/content/drive')"
      ],
      "execution_count": 3,
      "outputs": [
        {
          "output_type": "stream",
          "name": "stdout",
          "text": [
            "Mounted at /content/drive\n"
          ]
        }
      ]
    },
    {
      "cell_type": "markdown",
      "source": [
        "* Make 'datasets' Directory\n",
        " - <font color = 'red'>'dogs_and_cats_small.zip' 파일을 생성 후 구글 드라이브 디렉토리에 업로드"
      ],
      "metadata": {
        "id": "wI1gp-VBddnl"
      }
    },
    {
      "cell_type": "code",
      "source": [
        "!mkdir -p '/content/drive/My Drive/Colab Notebooks/datasets'"
      ],
      "metadata": {
        "id": "GWD3tWVlddnn"
      },
      "execution_count": null,
      "outputs": []
    },
    {
      "cell_type": "markdown",
      "metadata": {
        "id": "rBrMKlsgEvV7"
      },
      "source": [
        "* 마운트 및 파일 업로드 결과 확인"
      ]
    },
    {
      "cell_type": "code",
      "metadata": {
        "id": "ZAA_YjrVExu7",
        "colab": {
          "base_uri": "https://localhost:8080/"
        },
        "outputId": "4fce33f4-4407-4b57-a733-b06ffd679027"
      },
      "source": [
        "!ls -l '/content/drive/My Drive/Colab Notebooks/datasets/dogs_and_cats_small.zip'"
      ],
      "execution_count": 6,
      "outputs": [
        {
          "output_type": "stream",
          "name": "stdout",
          "text": [
            "-rw------- 1 root root 90618980 Apr  4 05:46 '/content/drive/My Drive/Colab Notebooks/datasets/dogs_and_cats_small.zip'\n"
          ]
        }
      ]
    },
    {
      "cell_type": "markdown",
      "metadata": {
        "id": "1DyFdyVxFyHK"
      },
      "source": [
        "# II. Data Preprocessing"
      ]
    },
    {
      "cell_type": "markdown",
      "metadata": {
        "id": "D9zdBsGKnLUo"
      },
      "source": [
        "> ## 1) Unzip 'dogs_and_cats_small.zip'"
      ]
    },
    {
      "cell_type": "code",
      "metadata": {
        "id": "WkuHaDXcnUtY"
      },
      "source": [
        "!unzip -q /content/drive/My\\ Drive/Colab\\ Notebooks/datasets/dogs_and_cats_small.zip"
      ],
      "execution_count": 7,
      "outputs": []
    },
    {
      "cell_type": "code",
      "metadata": {
        "colab": {
          "base_uri": "https://localhost:8080/"
        },
        "id": "QBJ4dEK4ewii",
        "outputId": "95d66601-77ed-4945-dd78-9f0705f7bad0"
      },
      "source": [
        "!ls -l"
      ],
      "execution_count": null,
      "outputs": [
        {
          "output_type": "stream",
          "name": "stdout",
          "text": [
            "total 20\n",
            "drwx------ 5 root root 4096 Mar 25 01:33 drive\n",
            "drwxr-xr-x 1 root root 4096 Mar 23 18:57 sample_data\n",
            "drwxr-xr-x 4 root root 4096 Mar 25 01:33 test\n",
            "drwxr-xr-x 4 root root 4096 Mar 25 01:33 train\n",
            "drwxr-xr-x 4 root root 4096 Mar 25 01:33 validation\n"
          ]
        }
      ]
    },
    {
      "cell_type": "markdown",
      "metadata": {
        "id": "H49A769LYp-a"
      },
      "source": [
        "> ## 2) Image_File Directory Setting"
      ]
    },
    {
      "cell_type": "markdown",
      "metadata": {
        "id": "fwUMpMCYGB7Z"
      },
      "source": [
        "* train_dir\n",
        "* valid_dir\n",
        "* test_dir"
      ]
    },
    {
      "cell_type": "code",
      "metadata": {
        "id": "DxstjE8b_6Te"
      },
      "source": [
        "train_dir = 'train'\n",
        "valid_dir = 'validation'\n",
        "test_dir  = 'test'"
      ],
      "execution_count": 8,
      "outputs": []
    },
    {
      "cell_type": "markdown",
      "metadata": {
        "id": "Mk9XL5vGHor6"
      },
      "source": [
        "> ## 3) ImageDataGenerator( ) & flow_from_directory( )"
      ]
    },
    {
      "cell_type": "markdown",
      "metadata": {
        "id": "_UbiVo2EGlOt"
      },
      "source": [
        "* Normalization\n",
        " * ImageDataGenerator( )\n",
        "* Resizing & Generator\n",
        " * flow_from_directory( )"
      ]
    },
    {
      "cell_type": "code",
      "metadata": {
        "id": "eC48Oym3Ao8E",
        "colab": {
          "base_uri": "https://localhost:8080/"
        },
        "outputId": "fc19a5c2-605f-4c5b-ed99-97335bb83995"
      },
      "source": [
        "from tensorflow.keras.preprocessing.image import ImageDataGenerator\n",
        "\n",
        "#Normalization\n",
        "train_datagen = ImageDataGenerator(rescale = 1./255)\n",
        "valid_datagen = ImageDataGenerator(rescale = 1./255)\n",
        "\n",
        "#Resizing & Generator\n",
        "train_generator = train_datagen.flow_from_directory(\n",
        "                  train_dir,\n",
        "                  target_size = (150, 150),\n",
        "                  batch_size = 20, #20개씩 생성 _ 총 2000장이니까 100번 필요\n",
        "                  class_mode = 'binary') #class_mode : labeling\b 역할 : 알파벳 순으로 됨 (다진분류의 경우 원핫인코딩)\n",
        "                  # flow_from_directory 는 파일을 20개씩 읽어올 때, 서로 다른 경로에서 가지고 온것을 0,1로 구분지으며 labeling 한다.\n",
        "                  # 결국 유형별로 파일들을 디렉토리화 하면 그 자체가 labeling된다. \n",
        "\n",
        "valid_generator = valid_datagen.flow_from_directory(\n",
        "                  valid_dir,\n",
        "                  target_size = (150, 150),\n",
        "                  batch_size = 20, #20개씩 생성 _ 총 1000장이니까 50번 필요\n",
        "                  class_mode = 'binary')"
      ],
      "execution_count": 9,
      "outputs": [
        {
          "output_type": "stream",
          "name": "stdout",
          "text": [
            "Found 2000 images belonging to 2 classes.\n",
            "Found 1000 images belonging to 2 classes.\n"
          ]
        }
      ]
    },
    {
      "cell_type": "markdown",
      "metadata": {
        "id": "vCpCB_giJbZr"
      },
      "source": [
        "> ## 4) Test train_generator"
      ]
    },
    {
      "cell_type": "code",
      "metadata": {
        "id": "NW5rHWtcJnTq",
        "colab": {
          "base_uri": "https://localhost:8080/"
        },
        "outputId": "7dd37136-d636-42e0-8f10-4543e2460f3e"
      },
      "source": [
        "for data_batch, labels_batch in train_generator:\n",
        "    print('배치 데이터 크기:', data_batch.shape)\n",
        "    print('배치 레이블 크기:', labels_batch.shape)\n",
        "    break"
      ],
      "execution_count": 10,
      "outputs": [
        {
          "output_type": "stream",
          "name": "stdout",
          "text": [
            "배치 데이터 크기: (20, 150, 150, 3)\n",
            "배치 레이블 크기: (20,)\n"
          ]
        }
      ]
    },
    {
      "cell_type": "code",
      "metadata": {
        "colab": {
          "base_uri": "https://localhost:8080/"
        },
        "id": "-OcEigJpk7Bm",
        "outputId": "de23cd66-59dd-48cb-9841-84cb535648ac"
      },
      "source": [
        "labels_batch"
      ],
      "execution_count": 11,
      "outputs": [
        {
          "output_type": "execute_result",
          "data": {
            "text/plain": [
              "array([0., 1., 1., 0., 0., 0., 1., 1., 0., 1., 1., 0., 0., 1., 1., 0., 1.,\n",
              "       0., 1., 0.], dtype=float32)"
            ]
          },
          "metadata": {},
          "execution_count": 11
        }
      ]
    },
    {
      "cell_type": "markdown",
      "metadata": {
        "id": "NTwZiSjiop3v"
      },
      "source": [
        "# III. CNN Keras Modeling"
      ]
    },
    {
      "cell_type": "markdown",
      "metadata": {
        "id": "j5CT0TurJCkc"
      },
      "source": [
        "> ## 1) Model Define"
      ]
    },
    {
      "cell_type": "markdown",
      "metadata": {
        "id": "ydDCl0jTJD58"
      },
      "source": [
        "* Feature Extraction & Classification"
      ]
    },
    {
      "cell_type": "code",
      "metadata": {
        "id": "II0DskRdAcHS"
      },
      "source": [
        "from tensorflow.keras import layers\n",
        "from tensorflow.keras import models\n",
        "\n",
        "model = models.Sequential()\n",
        "model.add(layers.Conv2D(32, (3, 3), activation = 'relu', input_shape = (150, 150, 3)))\n",
        "model.add(layers.MaxPooling2D((2, 2)))\n",
        "model.add(layers.Conv2D(64, (3, 3), activation = 'relu'))\n",
        "model.add(layers.MaxPooling2D((2, 2)))\n",
        "model.add(layers.Conv2D(128, (3, 3), activation = 'relu'))\n",
        "model.add(layers.MaxPooling2D((2, 2)))\n",
        "model.add(layers.Conv2D(128, (3, 3), activation = 'relu'))\n",
        "model.add(layers.MaxPooling2D((2, 2)))\n",
        "\n",
        "model.add(layers.Flatten())\n",
        "model.add(layers.Dense(512, activation = 'relu'))\n",
        "model.add(layers.Dense(1, activation = 'sigmoid'))"
      ],
      "execution_count": 12,
      "outputs": []
    },
    {
      "cell_type": "code",
      "metadata": {
        "id": "wbtjOA4XMTUd",
        "colab": {
          "base_uri": "https://localhost:8080/"
        },
        "outputId": "4c0a5e6d-41cc-44ee-a785-03fbaf55d264"
      },
      "source": [
        "model.summary()"
      ],
      "execution_count": 13,
      "outputs": [
        {
          "output_type": "stream",
          "name": "stdout",
          "text": [
            "Model: \"sequential\"\n",
            "_________________________________________________________________\n",
            " Layer (type)                Output Shape              Param #   \n",
            "=================================================================\n",
            " conv2d (Conv2D)             (None, 148, 148, 32)      896       \n",
            "                                                                 \n",
            " max_pooling2d (MaxPooling2D  (None, 74, 74, 32)       0         \n",
            " )                                                               \n",
            "                                                                 \n",
            " conv2d_1 (Conv2D)           (None, 72, 72, 64)        18496     \n",
            "                                                                 \n",
            " max_pooling2d_1 (MaxPooling  (None, 36, 36, 64)       0         \n",
            " 2D)                                                             \n",
            "                                                                 \n",
            " conv2d_2 (Conv2D)           (None, 34, 34, 128)       73856     \n",
            "                                                                 \n",
            " max_pooling2d_2 (MaxPooling  (None, 17, 17, 128)      0         \n",
            " 2D)                                                             \n",
            "                                                                 \n",
            " conv2d_3 (Conv2D)           (None, 15, 15, 128)       147584    \n",
            "                                                                 \n",
            " max_pooling2d_3 (MaxPooling  (None, 7, 7, 128)        0         \n",
            " 2D)                                                             \n",
            "                                                                 \n",
            " flatten (Flatten)           (None, 6272)              0         \n",
            "                                                                 \n",
            " dense (Dense)               (None, 512)               3211776   \n",
            "                                                                 \n",
            " dense_1 (Dense)             (None, 1)                 513       \n",
            "                                                                 \n",
            "=================================================================\n",
            "Total params: 3,453,121\n",
            "Trainable params: 3,453,121\n",
            "Non-trainable params: 0\n",
            "_________________________________________________________________\n"
          ]
        }
      ]
    },
    {
      "cell_type": "markdown",
      "metadata": {
        "id": "tpjBDBeYoyuj"
      },
      "source": [
        "> ## 2) Model Compile"
      ]
    },
    {
      "cell_type": "markdown",
      "metadata": {
        "id": "f3sxkQa0JoUr"
      },
      "source": [
        "* 모델 학습방법 설정"
      ]
    },
    {
      "cell_type": "code",
      "metadata": {
        "id": "AyK_t1qwAi6M"
      },
      "source": [
        "model.compile(loss = 'binary_crossentropy',\n",
        "              optimizer = 'adam',\n",
        "              metrics = ['accuracy'])"
      ],
      "execution_count": 14,
      "outputs": []
    },
    {
      "cell_type": "markdown",
      "metadata": {
        "id": "umiq4B-Xo3OB"
      },
      "source": [
        "> ## 3) Model Fit"
      ]
    },
    {
      "cell_type": "markdown",
      "metadata": {
        "id": "1KuXREziKMD1"
      },
      "source": [
        "* 모델 학습 수행\n",
        " * 약 11분"
      ]
    },
    {
      "cell_type": "code",
      "metadata": {
        "id": "zxwqwAqRAqRP",
        "colab": {
          "base_uri": "https://localhost:8080/"
        },
        "outputId": "0bd0a856-ff76-4019-87fe-d37e3a2f642a"
      },
      "source": [
        "%%time\n",
        "\n",
        "Hist_dandc = model.fit(train_generator,\n",
        "                       steps_per_epoch = 100, # 2000장 /20장\n",
        "                       epochs = 60,\n",
        "                       validation_data = valid_generator,\n",
        "                       validation_steps = 50) #1000장 / 20장"
      ],
      "execution_count": 15,
      "outputs": [
        {
          "output_type": "stream",
          "name": "stdout",
          "text": [
            "Epoch 1/60\n",
            "100/100 [==============================] - 23s 96ms/step - loss: 0.6943 - accuracy: 0.5315 - val_loss: 0.6834 - val_accuracy: 0.5150\n",
            "Epoch 2/60\n",
            "100/100 [==============================] - 10s 96ms/step - loss: 0.6968 - accuracy: 0.5130 - val_loss: 0.6923 - val_accuracy: 0.5000\n",
            "Epoch 3/60\n",
            "100/100 [==============================] - 10s 104ms/step - loss: 0.6809 - accuracy: 0.5480 - val_loss: 0.6723 - val_accuracy: 0.5750\n",
            "Epoch 4/60\n",
            "100/100 [==============================] - 10s 103ms/step - loss: 0.6440 - accuracy: 0.6250 - val_loss: 0.6314 - val_accuracy: 0.6470\n",
            "Epoch 5/60\n",
            "100/100 [==============================] - 11s 114ms/step - loss: 0.5954 - accuracy: 0.6730 - val_loss: 0.6142 - val_accuracy: 0.6460\n",
            "Epoch 6/60\n",
            "100/100 [==============================] - 9s 89ms/step - loss: 0.5651 - accuracy: 0.7065 - val_loss: 0.5909 - val_accuracy: 0.6780\n",
            "Epoch 7/60\n",
            "100/100 [==============================] - 10s 98ms/step - loss: 0.5305 - accuracy: 0.7355 - val_loss: 0.5863 - val_accuracy: 0.6750\n",
            "Epoch 8/60\n",
            "100/100 [==============================] - 13s 126ms/step - loss: 0.4903 - accuracy: 0.7565 - val_loss: 0.5803 - val_accuracy: 0.6890\n",
            "Epoch 9/60\n",
            "100/100 [==============================] - 10s 103ms/step - loss: 0.4048 - accuracy: 0.8070 - val_loss: 0.6195 - val_accuracy: 0.6940\n",
            "Epoch 10/60\n",
            "100/100 [==============================] - 9s 88ms/step - loss: 0.3364 - accuracy: 0.8415 - val_loss: 0.6525 - val_accuracy: 0.6810\n",
            "Epoch 11/60\n",
            "100/100 [==============================] - 10s 104ms/step - loss: 0.2821 - accuracy: 0.8795 - val_loss: 0.7194 - val_accuracy: 0.6870\n",
            "Epoch 12/60\n",
            "100/100 [==============================] - 10s 103ms/step - loss: 0.1712 - accuracy: 0.9265 - val_loss: 0.8984 - val_accuracy: 0.7030\n",
            "Epoch 13/60\n",
            "100/100 [==============================] - 9s 90ms/step - loss: 0.1458 - accuracy: 0.9440 - val_loss: 0.9745 - val_accuracy: 0.7030\n",
            "Epoch 14/60\n",
            "100/100 [==============================] - 12s 124ms/step - loss: 0.0836 - accuracy: 0.9670 - val_loss: 1.2372 - val_accuracy: 0.6940\n",
            "Epoch 15/60\n",
            "100/100 [==============================] - 16s 158ms/step - loss: 0.0391 - accuracy: 0.9910 - val_loss: 1.7078 - val_accuracy: 0.6700\n",
            "Epoch 16/60\n",
            "100/100 [==============================] - 11s 112ms/step - loss: 0.0528 - accuracy: 0.9815 - val_loss: 1.7999 - val_accuracy: 0.6840\n",
            "Epoch 17/60\n",
            "100/100 [==============================] - 12s 122ms/step - loss: 0.0473 - accuracy: 0.9835 - val_loss: 1.6197 - val_accuracy: 0.7020\n",
            "Epoch 18/60\n",
            "100/100 [==============================] - 13s 130ms/step - loss: 0.0066 - accuracy: 0.9995 - val_loss: 1.8925 - val_accuracy: 0.7190\n",
            "Epoch 19/60\n",
            "100/100 [==============================] - 11s 114ms/step - loss: 0.0021 - accuracy: 0.9995 - val_loss: 2.0454 - val_accuracy: 0.7210\n",
            "Epoch 20/60\n",
            "100/100 [==============================] - 12s 121ms/step - loss: 8.6390e-04 - accuracy: 1.0000 - val_loss: 2.1643 - val_accuracy: 0.7160\n",
            "Epoch 21/60\n",
            "100/100 [==============================] - 9s 94ms/step - loss: 4.6206e-04 - accuracy: 1.0000 - val_loss: 2.2611 - val_accuracy: 0.7200\n",
            "Epoch 22/60\n",
            "100/100 [==============================] - 12s 120ms/step - loss: 2.9971e-04 - accuracy: 1.0000 - val_loss: 2.3451 - val_accuracy: 0.7210\n",
            "Epoch 23/60\n",
            "100/100 [==============================] - 12s 125ms/step - loss: 2.1526e-04 - accuracy: 1.0000 - val_loss: 2.4221 - val_accuracy: 0.7220\n",
            "Epoch 24/60\n",
            "100/100 [==============================] - 12s 122ms/step - loss: 1.6121e-04 - accuracy: 1.0000 - val_loss: 2.4894 - val_accuracy: 0.7170\n",
            "Epoch 25/60\n",
            "100/100 [==============================] - 10s 103ms/step - loss: 1.2448e-04 - accuracy: 1.0000 - val_loss: 2.5744 - val_accuracy: 0.7190\n",
            "Epoch 26/60\n",
            "100/100 [==============================] - 12s 116ms/step - loss: 9.6148e-05 - accuracy: 1.0000 - val_loss: 2.6247 - val_accuracy: 0.7170\n",
            "Epoch 27/60\n",
            "100/100 [==============================] - 10s 103ms/step - loss: 7.6646e-05 - accuracy: 1.0000 - val_loss: 2.7055 - val_accuracy: 0.7190\n",
            "Epoch 28/60\n",
            "100/100 [==============================] - 10s 102ms/step - loss: 6.3440e-05 - accuracy: 1.0000 - val_loss: 2.7616 - val_accuracy: 0.7140\n",
            "Epoch 29/60\n",
            "100/100 [==============================] - 9s 89ms/step - loss: 5.2767e-05 - accuracy: 1.0000 - val_loss: 2.8048 - val_accuracy: 0.7150\n",
            "Epoch 30/60\n",
            "100/100 [==============================] - 10s 102ms/step - loss: 4.4326e-05 - accuracy: 1.0000 - val_loss: 2.8694 - val_accuracy: 0.7170\n",
            "Epoch 31/60\n",
            "100/100 [==============================] - 10s 104ms/step - loss: 3.8071e-05 - accuracy: 1.0000 - val_loss: 2.9094 - val_accuracy: 0.7170\n",
            "Epoch 32/60\n",
            "100/100 [==============================] - 10s 104ms/step - loss: 3.2830e-05 - accuracy: 1.0000 - val_loss: 2.9491 - val_accuracy: 0.7160\n",
            "Epoch 33/60\n",
            "100/100 [==============================] - 10s 96ms/step - loss: 2.8877e-05 - accuracy: 1.0000 - val_loss: 2.9689 - val_accuracy: 0.7170\n",
            "Epoch 34/60\n",
            "100/100 [==============================] - 10s 104ms/step - loss: 2.5414e-05 - accuracy: 1.0000 - val_loss: 2.9944 - val_accuracy: 0.7160\n",
            "Epoch 35/60\n",
            "100/100 [==============================] - 10s 105ms/step - loss: 2.2063e-05 - accuracy: 1.0000 - val_loss: 3.0520 - val_accuracy: 0.7140\n",
            "Epoch 36/60\n",
            "100/100 [==============================] - 9s 89ms/step - loss: 2.0126e-05 - accuracy: 1.0000 - val_loss: 3.0807 - val_accuracy: 0.7120\n",
            "Epoch 37/60\n",
            "100/100 [==============================] - 10s 104ms/step - loss: 1.8551e-05 - accuracy: 1.0000 - val_loss: 3.0842 - val_accuracy: 0.7140\n",
            "Epoch 38/60\n",
            "100/100 [==============================] - 10s 105ms/step - loss: 1.6408e-05 - accuracy: 1.0000 - val_loss: 3.1147 - val_accuracy: 0.7130\n",
            "Epoch 39/60\n",
            "100/100 [==============================] - 11s 114ms/step - loss: 1.4930e-05 - accuracy: 1.0000 - val_loss: 3.1441 - val_accuracy: 0.7120\n",
            "Epoch 40/60\n",
            "100/100 [==============================] - 9s 90ms/step - loss: 1.3421e-05 - accuracy: 1.0000 - val_loss: 3.1704 - val_accuracy: 0.7120\n",
            "Epoch 41/60\n",
            "100/100 [==============================] - 11s 105ms/step - loss: 1.2109e-05 - accuracy: 1.0000 - val_loss: 3.1870 - val_accuracy: 0.7150\n",
            "Epoch 42/60\n",
            "100/100 [==============================] - 10s 103ms/step - loss: 1.1139e-05 - accuracy: 1.0000 - val_loss: 3.2115 - val_accuracy: 0.7140\n",
            "Epoch 43/60\n",
            "100/100 [==============================] - 9s 91ms/step - loss: 1.0234e-05 - accuracy: 1.0000 - val_loss: 3.2298 - val_accuracy: 0.7130\n",
            "Epoch 44/60\n",
            "100/100 [==============================] - 10s 96ms/step - loss: 9.2572e-06 - accuracy: 1.0000 - val_loss: 3.2501 - val_accuracy: 0.7130\n",
            "Epoch 45/60\n",
            "100/100 [==============================] - 10s 104ms/step - loss: 8.4837e-06 - accuracy: 1.0000 - val_loss: 3.2765 - val_accuracy: 0.7120\n",
            "Epoch 46/60\n",
            "100/100 [==============================] - 10s 104ms/step - loss: 7.8029e-06 - accuracy: 1.0000 - val_loss: 3.2843 - val_accuracy: 0.7140\n",
            "Epoch 47/60\n",
            "100/100 [==============================] - 10s 95ms/step - loss: 7.0736e-06 - accuracy: 1.0000 - val_loss: 3.3362 - val_accuracy: 0.7140\n",
            "Epoch 48/60\n",
            "100/100 [==============================] - 10s 104ms/step - loss: 6.6540e-06 - accuracy: 1.0000 - val_loss: 3.3192 - val_accuracy: 0.7140\n",
            "Epoch 49/60\n",
            "100/100 [==============================] - 11s 114ms/step - loss: 6.1263e-06 - accuracy: 1.0000 - val_loss: 3.3762 - val_accuracy: 0.7120\n",
            "Epoch 50/60\n",
            "100/100 [==============================] - 9s 91ms/step - loss: 5.6822e-06 - accuracy: 1.0000 - val_loss: 3.3690 - val_accuracy: 0.7140\n",
            "Epoch 51/60\n",
            "100/100 [==============================] - 10s 98ms/step - loss: 5.1942e-06 - accuracy: 1.0000 - val_loss: 3.3881 - val_accuracy: 0.7140\n",
            "Epoch 52/60\n",
            "100/100 [==============================] - 10s 103ms/step - loss: 4.7992e-06 - accuracy: 1.0000 - val_loss: 3.4066 - val_accuracy: 0.7140\n",
            "Epoch 53/60\n",
            "100/100 [==============================] - 10s 103ms/step - loss: 4.4837e-06 - accuracy: 1.0000 - val_loss: 3.4300 - val_accuracy: 0.7130\n",
            "Epoch 54/60\n",
            "100/100 [==============================] - 9s 89ms/step - loss: 4.1365e-06 - accuracy: 1.0000 - val_loss: 3.4395 - val_accuracy: 0.7140\n",
            "Epoch 55/60\n",
            "100/100 [==============================] - 10s 104ms/step - loss: 3.8662e-06 - accuracy: 1.0000 - val_loss: 3.4663 - val_accuracy: 0.7140\n",
            "Epoch 56/60\n",
            "100/100 [==============================] - 10s 104ms/step - loss: 3.5118e-06 - accuracy: 1.0000 - val_loss: 3.4770 - val_accuracy: 0.7140\n",
            "Epoch 57/60\n",
            "100/100 [==============================] - 11s 114ms/step - loss: 3.3454e-06 - accuracy: 1.0000 - val_loss: 3.5062 - val_accuracy: 0.7140\n",
            "Epoch 58/60\n",
            "100/100 [==============================] - 10s 103ms/step - loss: 3.0529e-06 - accuracy: 1.0000 - val_loss: 3.5172 - val_accuracy: 0.7140\n",
            "Epoch 59/60\n",
            "100/100 [==============================] - 10s 104ms/step - loss: 2.8561e-06 - accuracy: 1.0000 - val_loss: 3.5273 - val_accuracy: 0.7150\n",
            "Epoch 60/60\n",
            "100/100 [==============================] - 9s 90ms/step - loss: 2.6954e-06 - accuracy: 1.0000 - val_loss: 3.5405 - val_accuracy: 0.7140\n",
            "CPU times: user 11min 27s, sys: 14.6 s, total: 11min 42s\n",
            "Wall time: 12min 54s\n"
          ]
        }
      ]
    },
    {
      "cell_type": "markdown",
      "metadata": {
        "id": "FnnIyFtNKhbD"
      },
      "source": [
        "> ## 4) 학습 결과 시각화"
      ]
    },
    {
      "cell_type": "code",
      "source": [
        "import matplotlib.pyplot as plt\n",
        "\n",
        "epochs = range(1, len(Hist_dandc.history['loss']) + 1)\n",
        "\n",
        "plt.figure(figsize = (15, 5))\n",
        "\n",
        "plt.subplot(1, 2, 1)\n",
        "plt.plot(epochs, Hist_dandc.history['loss'], 'b-')\n",
        "plt.plot(epochs, Hist_dandc.history['val_loss'], 'r--')\n",
        "plt.title('Training & Validation Loss')\n",
        "plt.xlabel('Epochs')\n",
        "plt.ylabel('Loss')\n",
        "plt.legend(['Training Loss', 'Validation Loss'])\n",
        "plt.grid()\n",
        "\n",
        "plt.subplot(1, 2, 2)\n",
        "plt.plot(epochs, Hist_dandc.history['accuracy'], 'b-')\n",
        "plt.plot(epochs, Hist_dandc.history['val_accuracy'], 'r--')\n",
        "plt.title('Training & Validation Accuracy')\n",
        "plt.xlabel('Epochs')\n",
        "plt.ylabel('Accuracy')\n",
        "plt.legend(['Training Accuracy', 'Validation Accuracy'])\n",
        "plt.grid()\n",
        "\n",
        "plt.show()"
      ],
      "metadata": {
        "colab": {
          "base_uri": "https://localhost:8080/",
          "height": 382
        },
        "id": "Xxie5c3bDTTv",
        "outputId": "bff384d9-fcea-4d4a-a66c-e95c61cb5af0"
      },
      "execution_count": 16,
      "outputs": [
        {
          "output_type": "display_data",
          "data": {
            "text/plain": [
              "<Figure size 1500x500 with 2 Axes>"
            ],
            "image/png": "[encoded data removed]"
          },
          "metadata": {}
        }
      ]
    },
    {
      "cell_type": "markdown",
      "metadata": {
        "id": "_uJSOLBko7lh"
      },
      "source": [
        "> ## 5) Model Evaluate"
      ]
    },
    {
      "cell_type": "markdown",
      "metadata": {
        "id": "vqd33SF_RG3q"
      },
      "source": [
        "* test_generator"
      ]
    },
    {
      "cell_type": "code",
      "metadata": {
        "id": "2SZddYK7RLov",
        "colab": {
          "base_uri": "https://localhost:8080/"
        },
        "outputId": "b177bff0-bfb4-4e2c-abf9-6e1a2fec2ca2"
      },
      "source": [
        "test_datagen = ImageDataGenerator(rescale = 1./255)\n",
        "\n",
        "test_generator = test_datagen.flow_from_directory(\n",
        "                 test_dir,\n",
        "                 target_size = (150, 150),\n",
        "                 batch_size = 20,\n",
        "                 class_mode = 'binary')"
      ],
      "execution_count": 17,
      "outputs": [
        {
          "output_type": "stream",
          "name": "stdout",
          "text": [
            "Found 1000 images belonging to 2 classes.\n"
          ]
        }
      ]
    },
    {
      "cell_type": "markdown",
      "metadata": {
        "id": "i-TqAB2ALGzZ"
      },
      "source": [
        "* Loss & Accuracy"
      ]
    },
    {
      "cell_type": "code",
      "metadata": {
        "id": "OF30PuZsAxQJ",
        "colab": {
          "base_uri": "https://localhost:8080/"
        },
        "outputId": "8bec2e6b-0c86-44f5-8676-99d9e0a45081"
      },
      "source": [
        "loss, accuracy = model.evaluate(test_generator,\n",
        "                                steps = 50, \n",
        "                                verbose = 0)\n",
        "\n",
        "print('Loss = {:.5f}'.format(loss))\n",
        "print('Accuracy = {:.5f}'.format(accuracy))"
      ],
      "execution_count": 18,
      "outputs": [
        {
          "output_type": "stream",
          "name": "stdout",
          "text": [
            "Loss = 3.86012\n",
            "Accuracy = 0.70200\n"
          ]
        }
      ]
    },
    {
      "cell_type": "markdown",
      "metadata": {
        "id": "fBSR6RDTtWZV"
      },
      "source": [
        "# IV. Model Save & Load to Google Drive"
      ]
    },
    {
      "cell_type": "markdown",
      "metadata": {
        "id": "OoG9bnmFuD5v"
      },
      "source": [
        "> ## 1) Google Drive Mount"
      ]
    },
    {
      "cell_type": "markdown",
      "metadata": {
        "id": "-DoXDaDQD_nR"
      },
      "source": [
        "* Mount Google Drive"
      ]
    },
    {
      "cell_type": "code",
      "metadata": {
        "id": "PQYJikBzuOuQ",
        "colab": {
          "base_uri": "https://localhost:8080/"
        },
        "outputId": "a5465579-73c9-46d7-a691-dfa6dc2b58f3"
      },
      "source": [
        "from google.colab import drive\n",
        "\n",
        "drive.mount('/content/drive')"
      ],
      "execution_count": 19,
      "outputs": [
        {
          "output_type": "stream",
          "name": "stdout",
          "text": [
            "Drive already mounted at /content/drive; to attempt to forcibly remount, call drive.mount(\"/content/drive\", force_remount=True).\n"
          ]
        }
      ]
    },
    {
      "cell_type": "markdown",
      "source": [
        "* Make 'models' Directory"
      ],
      "metadata": {
        "id": "tOo9e0oz4Fj-"
      }
    },
    {
      "cell_type": "code",
      "source": [
        "!mkdir -p '/content/drive/My Drive/Colab Notebooks/models'"
      ],
      "metadata": {
        "id": "jMXhIqbg4M-n"
      },
      "execution_count": 21,
      "outputs": []
    },
    {
      "cell_type": "markdown",
      "metadata": {
        "id": "0SX2qVV5tfZ5"
      },
      "source": [
        "> ## 2) Model Save"
      ]
    },
    {
      "cell_type": "code",
      "metadata": {
        "id": "o-VnLdQftjvL"
      },
      "source": [
        "model.save('/content/drive/My Drive/Colab Notebooks/models/002_dogs_and_cats_small.h5')"
      ],
      "execution_count": 24,
      "outputs": []
    },
    {
      "cell_type": "code",
      "metadata": {
        "id": "rZngp467yJ3f",
        "colab": {
          "base_uri": "https://localhost:8080/"
        },
        "outputId": "9123b9dc-a2ad-450a-f1f2-8d4b438bb6f3"
      },
      "source": [
        "!ls -l /content/drive/My\\ Drive/Colab\\ Notebooks/models"
      ],
      "execution_count": 25,
      "outputs": [
        {
          "output_type": "stream",
          "name": "stdout",
          "text": [
            "total 40525\n",
            "-rw------- 1 root root 41496728 Apr  4 06:04 002_dogs_and_cats_small.h5\n"
          ]
        }
      ]
    },
    {
      "cell_type": "markdown",
      "metadata": {
        "id": "WiKYR2Y5tsrv"
      },
      "source": [
        "> ## 3) Model Load"
      ]
    },
    {
      "cell_type": "code",
      "metadata": {
        "id": "90UQS7J1tzBZ"
      },
      "source": [
        "from tensorflow.keras.models import load_model\n",
        "\n",
        "model_small = load_model('/content/drive/My Drive/Colab Notebooks/models/002_dogs_and_cats_small.h5')"
      ],
      "execution_count": 26,
      "outputs": []
    },
    {
      "cell_type": "code",
      "metadata": {
        "id": "rULDfHRPXh42",
        "colab": {
          "base_uri": "https://localhost:8080/"
        },
        "outputId": "0ebc2dce-3147-455d-a49b-d43df8229785"
      },
      "source": [
        "loss, accuracy = model_small.evaluate(test_generator,\n",
        "                                      steps = 50, \n",
        "                                      verbose = 0)\n",
        "\n",
        "print('Loss = {:.5f}'.format(loss))\n",
        "print('Accuracy = {:.5f}'.format(accuracy))"
      ],
      "execution_count": 27,
      "outputs": [
        {
          "output_type": "stream",
          "name": "stdout",
          "text": [
            "Loss = 3.86012\n",
            "Accuracy = 0.70200\n"
          ]
        }
      ]
    },
    {
      "cell_type": "markdown",
      "metadata": {
        "id": "sN48I9GrLxOX"
      },
      "source": [
        "# \n",
        "# \n",
        "# \n",
        "# The End\n",
        "# \n",
        "# \n",
        "# "
      ]
    }
  ]
}