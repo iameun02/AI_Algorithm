{
  "nbformat": 4,
  "nbformat_minor": 0,
  "metadata": {
    "colab": {
      "provenance": []
    },
    "kernelspec": {
      "name": "python3",
      "display_name": "Python 3"
    },
    "language_info": {
      "name": "python"
    }
  },
  "cells": [
    {
      "cell_type": "markdown",
      "metadata": {
        "id": "q2Pr7oBdYLdf"
      },
      "source": [
        "# Filters"
      ]
    },
    {
      "cell_type": "markdown",
      "source": [
        "## <b> Filter </b>\n",
        "\n",
        "1. Purpose <br>\n",
        "(가로선 , 세로선, 대각선 등등) 각각 다른 특징을 뽑아낼 값을 학습 하는 것 <br>\n",
        "2. Feature\n",
        "\n",
        " 1. Parameter Sharing\n",
        " 2. Local connectivity\n",
        "    - 지역성을 유지하기 위해서 생긴것 그대로 들어가야함 \n",
        "         (DNN은 Flatten이 필수하기 때문에 불가, 하지만 CNN은 2차원이 그대로 들어감)\n",
        "      최종적으로는 펴지지만, 그 단계에서의 지역성을 보존할 수 있어서 CNN을 써야함 <br>\n",
        "\n",
        "3. 학습방법 <br>\n",
        "최초에 랜덤값을 가지고 Feed Forward를 하고 <br>\n",
        "발생한 오차를 Back Progation하여 Parameter를 업데이트 시킴 <br>\n",
        "이처럼 filter들은 학습의 대상이 된다. (고정된 값을 갖는게 아님)<br><br>\n",
        "4. 구성\n",
        " 1. 개수 : filters = 32 (32개의 필터) → 많이 쓸수록 성능이 좋아짐\n",
        " 2. 크기 : kernel_size = (3,3) # 필터를 적용시킬 Input data or Feature Map 두께 n에 자동으로 맞춰짐 kernel_size = (3,3,n)\n",
        " 3. 두께 (= channel)<br>\n",
        "  - 필터를 여러개 사용하면 channel (두께)이 생긴다.\n",
        "  - 필터를 3개 쓰면 3개의 두께 (3장)\n",
        "  - 필터 사용시에는 이전 Feature map의 (채널)두께와 맞춰줘야 하는데 <br> \n",
        "    이는, 별도 지정없이 tensorflow에서 자동으로 지원됨\n",
        "     - 흑백은 채널이 1 , 컬러는 채널이 3개 (R, G, B) \n",
        "     - ```각 필터당 (= n장 Feature map @ n채널의 필터) 2차원의 1개 Feature map 생성```\n",
        "     - (중요) 필터의 개수만큼 다음 피처맵이 생기는 것 : 이전 피처맵은 동일한 두께의 필터를 만나 연산되면서 1차원으로 되기 때문에 장수가 중요하지 않고 현재 적용하는 필터의 개수로 피처맵이 생성되게됨\n",
        "\n",
        "\n",
        "\n",
        "\n",
        "\n",
        "\n",
        "\n",
        "\n",
        "\n",
        "\n",
        "\n",
        "\n",
        "\n",
        "\n"
      ],
      "metadata": {
        "id": "v8gu0CBpE0nJ"
      }
    },
    {
      "cell_type": "code",
      "source": [
        "import warnings\n",
        "warnings.filterwarnings('ignore')"
      ],
      "metadata": {
        "id": "std_KDw4kz9k"
      },
      "execution_count": null,
      "outputs": []
    },
    {
      "cell_type": "markdown",
      "metadata": {
        "id": "H49A769LYp-a"
      },
      "source": [
        "# I. Fashion-MNIST Data_Set Load"
      ]
    },
    {
      "cell_type": "code",
      "execution_count": null,
      "metadata": {
        "colab": {
          "base_uri": "https://localhost:8080/"
        },
        "id": "GxDU2OtGkn5e",
        "outputId": "15de5c43-72a1-4ae1-8a7e-9611922c0cb7"
      },
      "outputs": [
        {
          "output_type": "stream",
          "name": "stdout",
          "text": [
            "Downloading data from https://storage.googleapis.com/tensorflow/tf-keras-datasets/train-labels-idx1-ubyte.gz\n",
            "29515/29515 [==============================] - 0s 0us/step\n",
            "Downloading data from https://storage.googleapis.com/tensorflow/tf-keras-datasets/train-images-idx3-ubyte.gz\n",
            "26421880/26421880 [==============================] - 0s 0us/step\n",
            "Downloading data from https://storage.googleapis.com/tensorflow/tf-keras-datasets/t10k-labels-idx1-ubyte.gz\n",
            "5148/5148 [==============================] - 0s 0us/step\n",
            "Downloading data from https://storage.googleapis.com/tensorflow/tf-keras-datasets/t10k-images-idx3-ubyte.gz\n",
            "4422102/4422102 [==============================] - 0s 0us/step\n"
          ]
        }
      ],
      "source": [
        "from tensorflow.keras.datasets import fashion_mnist\n",
        "\n",
        "(X_train, y_train), (X_test, y_test) = fashion_mnist.load_data()"
      ]
    },
    {
      "cell_type": "markdown",
      "metadata": {
        "id": "UFVwVM7btu0z"
      },
      "source": [
        "# II. Image 확인"
      ]
    },
    {
      "cell_type": "code",
      "source": [
        "import matplotlib.pyplot as plt\n",
        "\n",
        "plt.figure(figsize = (7, 7))\n",
        "plt.imshow(X_train[99], cmap = 'gray')\n",
        "plt.title('Original Image')\n",
        "plt.show()"
      ],
      "metadata": {
        "colab": {
          "base_uri": "https://localhost:8080/"
        },
        "id": "s_WAXATMkzRX",
        "outputId": "6d8c9baa-06d3-488d-813f-9e68fd877024"
      },
      "execution_count": null,
      "outputs": [
        {
          "output_type": "display_data",
          "data": {
            "text/plain": [
              "<Figure size 504x504 with 1 Axes>"
            ],
            "image/png": "[encoded data removed]"
          },
          "metadata": {
            "needs_background": "light"
          }
        }
      ]
    },
    {
      "cell_type": "markdown",
      "metadata": {
        "id": "463z6s2lt2ke"
      },
      "source": [
        "# III. Filter 생성 및 Image 수정"
      ]
    },
    {
      "cell_type": "markdown",
      "source": [
        "Filter 값은 <br>\n",
        "원래 초기값 랜덤 parameter값을 갖고, <br>\n",
        "Forward - Backpropagration 을 반복해가면서<br>\n",
        "학습해 가는 변화값이지만, <br>\n",
        "실습은 이해를 위해 학습의 결과 값이라고 가정하고 고정해본다.<br>\n",
        "<br>\n",
        "\n",
        "```가정상황 : 학습 결과 가로선, 세로선 2가지 특징을 추출하는 2가지 필터가 생성됨``` <br>\n"
      ],
      "metadata": {
        "id": "PQlcgwJND_uS"
      }
    },
    {
      "cell_type": "markdown",
      "source": [
        "> ## 1) 가로선 추출 필터"
      ],
      "metadata": {
        "id": "7scXaAIeuDQ9"
      }
    },
    {
      "cell_type": "code",
      "source": [
        "import numpy as np\n",
        "\n",
        "H_Filter = np.array([[-1., -2., -1.], \n",
        "                     [0., 0., 0.], \n",
        "                     [1., 2., 1.]])\n",
        "\n",
        "print(H_Filter)"
      ],
      "metadata": {
        "colab": {
          "base_uri": "https://localhost:8080/"
        },
        "id": "iAH7HS1WmBVS",
        "outputId": "f1596e6d-4371-48c5-fb23-5726ff50386b"
      },
      "execution_count": null,
      "outputs": [
        {
          "output_type": "stream",
          "name": "stdout",
          "text": [
            "[[-1. -2. -1.]\n",
            " [ 0.  0.  0.]\n",
            " [ 1.  2.  1.]]\n"
          ]
        }
      ]
    },
    {
      "cell_type": "markdown",
      "source": [
        "> ## 2) 세로선 추출 필터"
      ],
      "metadata": {
        "id": "G1Fwj--1uGcP"
      }
    },
    {
      "cell_type": "code",
      "source": [
        "V_Filter = np.array([[-1., 0., 1.],\n",
        "                     [-2., 0., 2.],\n",
        "                     [-1., 0., 1.]])\n",
        "\n",
        "print(V_Filter)"
      ],
      "metadata": {
        "colab": {
          "base_uri": "https://localhost:8080/"
        },
        "id": "x5TdhWN5uCR3",
        "outputId": "405455af-bcb6-47c6-dcf9-58126f11826d"
      },
      "execution_count": null,
      "outputs": [
        {
          "output_type": "stream",
          "name": "stdout",
          "text": [
            "[[-1.  0.  1.]\n",
            " [-2.  0.  2.]\n",
            " [-1.  0.  1.]]\n"
          ]
        }
      ]
    },
    {
      "cell_type": "markdown",
      "source": [
        "> ## 3) 이미지 크기 변경\n",
        "\n",
        "* (28 x 28) -> (27 x 27)\n",
        "* filter가 (3x3) 이기 때문에 3의 배수로 맞춰줌\n",
        "* tensorflow에서는 알아서 맞춰줌"
      ],
      "metadata": {
        "id": "taiUGunquMGb"
      }
    },
    {
      "cell_type": "code",
      "source": [
        "import cv2\n",
        "\n",
        "test_image = cv2.resize(X_train[99], (27, 27))\n",
        "\n",
        "print(X_train[99].shape, test_image.shape)"
      ],
      "metadata": {
        "colab": {
          "base_uri": "https://localhost:8080/"
        },
        "id": "kTPsBaQetAMx",
        "outputId": "60200b9b-212f-4d4d-8a45-0fae2e94e5df"
      },
      "execution_count": null,
      "outputs": [
        {
          "output_type": "stream",
          "name": "stdout",
          "text": [
            "(28, 28) (27, 27)\n"
          ]
        }
      ]
    },
    {
      "cell_type": "markdown",
      "source": [
        "# IV. Convolutional with Filters"
      ],
      "metadata": {
        "id": "Pt2G-Tq5vrLI"
      }
    },
    {
      "cell_type": "markdown",
      "source": [
        "> ## 1) conv_image( ) 정의"
      ],
      "metadata": {
        "id": "Z1Yg8OsgxRWJ"
      }
    },
    {
      "cell_type": "code",
      "source": [
        "filter_size = 3\n",
        "output_size = 25\n",
        "\n",
        "def conv_image(filter):\n",
        "    filtered_image = np.zeros((output_size, output_size))\n",
        "    \n",
        "    for i in range(output_size):\n",
        "        for j in range(output_size):\n",
        "            indice_image = test_image[i:(i + filter_size), j:(j + filter_size)] * filter\n",
        "            indice_sum = np.sum(indice_image)\n",
        "\n",
        "            if(indice_sum > 255):\n",
        "                indice_sum = 255\n",
        "            filtered_image[i, j] = indice_sum\n",
        "\n",
        "    return filtered_image"
      ],
      "metadata": {
        "id": "JRfFAbzBmUtr"
      },
      "execution_count": null,
      "outputs": []
    },
    {
      "cell_type": "markdown",
      "source": [
        "> ## 2) H_Filter 적용"
      ],
      "metadata": {
        "id": "5y_G0T8XxbMs"
      }
    },
    {
      "cell_type": "code",
      "source": [
        "H_conv_image = conv_image(H_Filter)\n",
        "\n",
        "plt.figure(figsize = (7, 7))\n",
        "plt.xticks([])\n",
        "plt.yticks([])\n",
        "plt.title('Horizontal Output')\n",
        "plt.imshow(H_conv_image, cmap = 'gray')\n",
        "\n",
        "plt.show()"
      ],
      "metadata": {
        "colab": {
          "base_uri": "https://localhost:8080/"
        },
        "id": "gipHTc0sojit",
        "outputId": "ea96db94-aa75-43a9-df12-f9dea34dd3d6"
      },
      "execution_count": null,
      "outputs": [
        {
          "output_type": "display_data",
          "data": {
            "text/plain": [
              "<Figure size 504x504 with 1 Axes>"
            ],
            "image/png": "[encoded data removed]"
          },
          "metadata": {}
        }
      ]
    },
    {
      "cell_type": "markdown",
      "source": [
        "> ## 3) V_Filter 적용"
      ],
      "metadata": {
        "id": "h0tTeuiHxXec"
      }
    },
    {
      "cell_type": "code",
      "source": [
        "V_conv_image = conv_image(V_Filter)\n",
        "\n",
        "plt.figure(figsize = (7, 7))\n",
        "plt.xticks([])\n",
        "plt.yticks([])\n",
        "plt.title('Vertical Output')\n",
        "plt.imshow(V_conv_image, cmap = 'gray')\n",
        "\n",
        "plt.show()"
      ],
      "metadata": {
        "colab": {
          "base_uri": "https://localhost:8080/"
        },
        "id": "vgh91wdLog4r",
        "outputId": "5f01f0dd-dcf6-45f4-dbf2-f5160a74873d"
      },
      "execution_count": null,
      "outputs": [
        {
          "output_type": "display_data",
          "data": {
            "text/plain": [
              "<Figure size 504x504 with 1 Axes>"
            ],
            "image/png": "[encoded data removed]"
          },
          "metadata": {}
        }
      ]
    },
    {
      "cell_type": "markdown",
      "source": [
        "# V. 최종 결과\n",
        "\n",
        "* V_Filter and H_Filter"
      ],
      "metadata": {
        "id": "Kf8sR9y4xhjd"
      }
    },
    {
      "cell_type": "code",
      "source": [
        "sobel_image = np.sqrt(np.square(H_conv_image) + np.square(V_conv_image))\n",
        "\n",
        "plt.figure(figsize = (7, 7))\n",
        "plt.xticks([])\n",
        "plt.yticks([])\n",
        "plt.title('Vertical & Horizontal Output')\n",
        "plt.imshow(sobel_image, cmap = 'gray')\n",
        "plt.show()"
      ],
      "metadata": {
        "colab": {
          "base_uri": "https://localhost:8080/"
        },
        "id": "Z2wogn7-o41E",
        "outputId": "ec5a49f8-899b-4afc-f7bb-3dc82c12efe5"
      },
      "execution_count": null,
      "outputs": [
        {
          "output_type": "display_data",
          "data": {
            "text/plain": [
              "<Figure size 504x504 with 1 Axes>"
            ],
            "image/png": "[encoded data removed]"
          },
          "metadata": {}
        }
      ]
    },
    {
      "cell_type": "markdown",
      "source": [
        "# \n",
        "# \n",
        "# \n",
        "# The End\n",
        "# \n",
        "# \n",
        "# "
      ],
      "metadata": {
        "id": "x0J4l-7hxG7_"
      }
    }
  ]
}