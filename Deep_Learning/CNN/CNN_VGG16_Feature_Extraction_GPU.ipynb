{
  "nbformat": 4,
  "nbformat_minor": 0,
  "metadata": {
    "colab": {
      "provenance": []
    },
    "kernelspec": {
      "name": "python3",
      "display_name": "Python 3"
    },
    "accelerator": "GPU",
    "gpuClass": "standard"
  },
  "cells": [
    {
      "cell_type": "markdown",
      "metadata": {
        "id": "q2Pr7oBdYLdf"
      },
      "source": [
        "# 사전 학습된 CNN(VGG-16)을 이용한 Feature Extraction\n",
        "## VGG-16 Model\n",
        "* University of Oxford - Visual Geometry Group\n",
        "* 2014 ILSVRC 2nd Model\n",
        "* ImageNet Large Scale Visual Recognition Challenge (ILSVRC)\n"
      ]
    },
    {
      "cell_type": "code",
      "metadata": {
        "id": "RbPgODpVzdHI"
      },
      "source": [
        "import warnings\n",
        "warnings.filterwarnings('ignore')"
      ],
      "execution_count": 1,
      "outputs": []
    },
    {
      "cell_type": "markdown",
      "source": [
        "* Import TensorFlow"
      ],
      "metadata": {
        "id": "yI8cuQkfxyfb"
      }
    },
    {
      "cell_type": "code",
      "source": [
        "import tensorflow as tf\n",
        "\n",
        "tf.__version__"
      ],
      "metadata": {
        "id": "b0whlIaSx2Yq",
        "colab": {
          "base_uri": "https://localhost:8080/",
          "height": 36
        },
        "outputId": "6056b28c-3f00-4947-b46f-ec047733c6a6"
      },
      "execution_count": 2,
      "outputs": [
        {
          "output_type": "execute_result",
          "data": {
            "text/plain": [
              "'2.12.0'"
            ],
            "application/vnd.google.colaboratory.intrinsic+json": {
              "type": "string"
            }
          },
          "metadata": {},
          "execution_count": 2
        }
      ]
    },
    {
      "cell_type": "markdown",
      "metadata": {
        "id": "6d1FeKK1CgqG"
      },
      "source": [
        "# I. wget From Github\n",
        "* 'dogs_and_cats_small.zip' 파일 다운로드"
      ]
    },
    {
      "cell_type": "code",
      "source": [
        "!wget https://raw.githubusercontent.com/rusita-ai/pyData/master/dogs_and_cats_small.zip"
      ],
      "metadata": {
        "colab": {
          "base_uri": "https://localhost:8080/"
        },
        "id": "f32hYtuOh4F4",
        "outputId": "3b360dd3-61b9-4a3d-a136-366252d4aa1c"
      },
      "execution_count": 3,
      "outputs": [
        {
          "output_type": "stream",
          "name": "stdout",
          "text": [
            "--2023-04-05 02:26:27--  https://raw.githubusercontent.com/rusita-ai/pyData/master/dogs_and_cats_small.zip\n",
            "Resolving raw.githubusercontent.com (raw.githubusercontent.com)... 185.199.110.133, 185.199.111.133, 185.199.109.133, ...\n",
            "Connecting to raw.githubusercontent.com (raw.githubusercontent.com)|185.199.110.133|:443... connected.\n",
            "HTTP request sent, awaiting response... 200 OK\n",
            "Length: 90618980 (86M) [application/zip]\n",
            "Saving to: ‘dogs_and_cats_small.zip’\n",
            "\n",
            "dogs_and_cats_small 100%[===================>]  86.42M   289MB/s    in 0.3s    \n",
            "\n",
            "2023-04-05 02:26:28 (289 MB/s) - ‘dogs_and_cats_small.zip’ saved [90618980/90618980]\n",
            "\n"
          ]
        }
      ]
    },
    {
      "cell_type": "markdown",
      "metadata": {
        "id": "O0njEDt2CgqJ"
      },
      "source": [
        "* 다운로드 결과 확인"
      ]
    },
    {
      "cell_type": "code",
      "metadata": {
        "colab": {
          "base_uri": "https://localhost:8080/"
        },
        "outputId": "182c8aa1-57a1-4801-e03d-2eedfb742d93",
        "id": "A9XdvsnVCgqK"
      },
      "source": [
        "!ls -l "
      ],
      "execution_count": 4,
      "outputs": [
        {
          "output_type": "stream",
          "name": "stdout",
          "text": [
            "total 88500\n",
            "-rw-r--r-- 1 root root 90618980 Apr  5 02:26 dogs_and_cats_small.zip\n",
            "drwxr-xr-x 1 root root     4096 Apr  3 13:38 sample_data\n"
          ]
        }
      ]
    },
    {
      "cell_type": "markdown",
      "metadata": {
        "id": "b6fdvGr3wPmT"
      },
      "source": [
        "# II. Data Preprocessing"
      ]
    },
    {
      "cell_type": "markdown",
      "metadata": {
        "id": "D9zdBsGKnLUo"
      },
      "source": [
        "> ## 1) Unzip 'dogs_and_cats_small.zip'"
      ]
    },
    {
      "cell_type": "code",
      "metadata": {
        "id": "WkuHaDXcnUtY"
      },
      "source": [
        "!unzip -q /content/dogs_and_cats_small.zip"
      ],
      "execution_count": 5,
      "outputs": []
    },
    {
      "cell_type": "markdown",
      "source": [
        "* 학습 데이터 확인"
      ],
      "metadata": {
        "id": "nYRGJ9bpp4pF"
      }
    },
    {
      "cell_type": "code",
      "metadata": {
        "id": "wJxlpex8Ifo-",
        "colab": {
          "base_uri": "https://localhost:8080/"
        },
        "outputId": "b3fa1ae4-be4b-4cf9-972e-ec9efdc46052"
      },
      "source": [
        "!ls -l"
      ],
      "execution_count": 6,
      "outputs": [
        {
          "output_type": "stream",
          "name": "stdout",
          "text": [
            "total 88512\n",
            "-rw-r--r-- 1 root root 90618980 Apr  5 02:26 dogs_and_cats_small.zip\n",
            "drwxr-xr-x 1 root root     4096 Apr  3 13:38 sample_data\n",
            "drwxr-xr-x 4 root root     4096 Apr  5 02:26 test\n",
            "drwxr-xr-x 4 root root     4096 Apr  5 02:26 train\n",
            "drwxr-xr-x 4 root root     4096 Apr  5 02:26 validation\n"
          ]
        }
      ]
    },
    {
      "cell_type": "markdown",
      "metadata": {
        "id": "1DyFdyVxFyHK"
      },
      "source": [
        "> ## 2) Image_File Directory Setting"
      ]
    },
    {
      "cell_type": "markdown",
      "metadata": {
        "id": "fwUMpMCYGB7Z"
      },
      "source": [
        "* train_dir\n",
        "* valid_dir\n",
        "* test_dir"
      ]
    },
    {
      "cell_type": "code",
      "metadata": {
        "id": "DxstjE8b_6Te"
      },
      "source": [
        "train_dir = 'train'\n",
        "valid_dir = 'validation'\n",
        "test_dir = 'test'"
      ],
      "execution_count": 7,
      "outputs": []
    },
    {
      "cell_type": "markdown",
      "metadata": {
        "id": "wBAWLCWdGNde"
      },
      "source": [
        "# III. Import VGG-16 Model"
      ]
    },
    {
      "cell_type": "markdown",
      "metadata": {
        "id": "tpdqyBb2Gsdj"
      },
      "source": [
        "> ## 1) conv_base"
      ]
    },
    {
      "cell_type": "code",
      "metadata": {
        "id": "Zgv7VdbFGTGK",
        "colab": {
          "base_uri": "https://localhost:8080/"
        },
        "outputId": "e89a5e8b-0e0e-4a8b-f64e-b36b1509f3cb"
      },
      "source": [
        "from tensorflow.keras.applications import VGG16\n",
        "\n",
        "conv_base = VGG16(weights = 'imagenet', #imagenet 이미지를 분류하는 파라미터를 가지고 옴\n",
        "                  include_top = False,\n",
        "                  input_shape = (150, 150, 3))"
      ],
      "execution_count": 8,
      "outputs": [
        {
          "output_type": "stream",
          "name": "stdout",
          "text": [
            "Downloading data from https://storage.googleapis.com/tensorflow/keras-applications/vgg16/vgg16_weights_tf_dim_ordering_tf_kernels_notop.h5\n",
            "58889256/58889256 [==============================] - 2s 0us/step\n"
          ]
        }
      ]
    },
    {
      "cell_type": "markdown",
      "metadata": {
        "id": "d8isG6d-G2bf"
      },
      "source": [
        "> ## 2) Model Information"
      ]
    },
    {
      "cell_type": "code",
      "metadata": {
        "id": "rEBl55fNGnvN",
        "colab": {
          "base_uri": "https://localhost:8080/"
        },
        "outputId": "91c64b69-0160-42a8-b9e0-358285357be4"
      },
      "source": [
        "conv_base.summary()"
      ],
      "execution_count": 9,
      "outputs": [
        {
          "output_type": "stream",
          "name": "stdout",
          "text": [
            "Model: \"vgg16\"\n",
            "_________________________________________________________________\n",
            " Layer (type)                Output Shape              Param #   \n",
            "=================================================================\n",
            " input_1 (InputLayer)        [(None, 150, 150, 3)]     0         \n",
            "                                                                 \n",
            " block1_conv1 (Conv2D)       (None, 150, 150, 64)      1792      \n",
            "                                                                 \n",
            " block1_conv2 (Conv2D)       (None, 150, 150, 64)      36928     \n",
            "                                                                 \n",
            " block1_pool (MaxPooling2D)  (None, 75, 75, 64)        0         \n",
            "                                                                 \n",
            " block2_conv1 (Conv2D)       (None, 75, 75, 128)       73856     \n",
            "                                                                 \n",
            " block2_conv2 (Conv2D)       (None, 75, 75, 128)       147584    \n",
            "                                                                 \n",
            " block2_pool (MaxPooling2D)  (None, 37, 37, 128)       0         \n",
            "                                                                 \n",
            " block3_conv1 (Conv2D)       (None, 37, 37, 256)       295168    \n",
            "                                                                 \n",
            " block3_conv2 (Conv2D)       (None, 37, 37, 256)       590080    \n",
            "                                                                 \n",
            " block3_conv3 (Conv2D)       (None, 37, 37, 256)       590080    \n",
            "                                                                 \n",
            " block3_pool (MaxPooling2D)  (None, 18, 18, 256)       0         \n",
            "                                                                 \n",
            " block4_conv1 (Conv2D)       (None, 18, 18, 512)       1180160   \n",
            "                                                                 \n",
            " block4_conv2 (Conv2D)       (None, 18, 18, 512)       2359808   \n",
            "                                                                 \n",
            " block4_conv3 (Conv2D)       (None, 18, 18, 512)       2359808   \n",
            "                                                                 \n",
            " block4_pool (MaxPooling2D)  (None, 9, 9, 512)         0         \n",
            "                                                                 \n",
            " block5_conv1 (Conv2D)       (None, 9, 9, 512)         2359808   \n",
            "                                                                 \n",
            " block5_conv2 (Conv2D)       (None, 9, 9, 512)         2359808   \n",
            "                                                                 \n",
            " block5_conv3 (Conv2D)       (None, 9, 9, 512)         2359808   \n",
            "                                                                 \n",
            " block5_pool (MaxPooling2D)  (None, 4, 4, 512)         0         \n",
            "                                                                 \n",
            "=================================================================\n",
            "Total params: 14,714,688\n",
            "Trainable params: 14,714,688\n",
            "Non-trainable params: 0\n",
            "_________________________________________________________________\n"
          ]
        }
      ]
    },
    {
      "cell_type": "markdown",
      "metadata": {
        "id": "wxseOi-kGie4"
      },
      "source": [
        "# IV. Feature Extraction"
      ]
    },
    {
      "cell_type": "markdown",
      "metadata": {
        "id": "3-3WoeNMexW9"
      },
      "source": [
        "> ## 1) 특징추출 함수 정의 : extract_feature( )\n",
        "* conv_base.predict( )"
      ]
    },
    {
      "cell_type": "code",
      "metadata": {
        "id": "BXgfjbXvHJsg"
      },
      "source": [
        "from tensorflow.keras.preprocessing.image import ImageDataGenerator\n",
        "import numpy as np\n",
        "\n",
        "datagen = ImageDataGenerator(rescale = 1./255)\n",
        "\n",
        "batch_size = 20\n",
        "\n",
        "def extract_features(directory, sample_count):\n",
        "    features = np.zeros(shape = (sample_count, 4, 4, 512))\n",
        "    labels = np.zeros(shape = (sample_count))\n",
        "    \n",
        "    generator = datagen.flow_from_directory(directory,\n",
        "                                            target_size = (150, 150),\n",
        "                                            batch_size = batch_size,\n",
        "                                            class_mode = 'binary')\n",
        "    \n",
        "    i = 0\n",
        "    for inputs_batch, labels_batch in generator:\n",
        "        features_batch = conv_base.predict(inputs_batch, verbose = 0)\n",
        "        features[i * batch_size : (i + 1) * batch_size] = features_batch\n",
        "        labels[i * batch_size : (i + 1) * batch_size] = labels_batch\n",
        "        i += 1\n",
        "        if i * batch_size >= sample_count:\n",
        "            break\n",
        "    return features, labels"
      ],
      "execution_count": 10,
      "outputs": []
    },
    {
      "cell_type": "markdown",
      "metadata": {
        "id": "biPstCPhHwzB"
      },
      "source": [
        "> ## 2) 특징추출 함수 적용\n",
        "* train_dir\n",
        "* valid_dir\n",
        "* test_dir"
      ]
    },
    {
      "cell_type": "markdown",
      "metadata": {
        "id": "tlD3qIrrynRr"
      },
      "source": [
        "* 약 1분"
      ]
    },
    {
      "cell_type": "code",
      "metadata": {
        "id": "nOL8HkdJH1jL",
        "colab": {
          "base_uri": "https://localhost:8080/"
        },
        "outputId": "dd5497c4-c0c8-4d7f-b82a-eb8317b07bb3"
      },
      "source": [
        "%%time\n",
        "\n",
        "train_features, train_labels = extract_features(train_dir, 2000)\n",
        "valid_features, valid_labels = extract_features(valid_dir, 1000)\n",
        "test_features, test_labels = extract_features(test_dir, 1000)"
      ],
      "execution_count": null,
      "outputs": [
        {
          "output_type": "stream",
          "name": "stdout",
          "text": [
            "Found 2000 images belonging to 2 classes.\n",
            "Found 1000 images belonging to 2 classes.\n",
            "Found 1000 images belonging to 2 classes.\n",
            "CPU times: user 35.2 s, sys: 1.56 s, total: 36.7 s\n",
            "Wall time: 45.4 s\n"
          ]
        }
      ]
    },
    {
      "cell_type": "code",
      "metadata": {
        "id": "Z8bYAgWWKFSD",
        "colab": {
          "base_uri": "https://localhost:8080/"
        },
        "outputId": "39e4c72d-d869-4c37-ddf5-cb57ff103499"
      },
      "source": [
        "train_features.shape, valid_features.shape, test_features.shape"
      ],
      "execution_count": null,
      "outputs": [
        {
          "output_type": "execute_result",
          "data": {
            "text/plain": [
              "((2000, 4, 4, 512), (1000, 4, 4, 512), (1000, 4, 4, 512))"
            ]
          },
          "metadata": {},
          "execution_count": 12
        }
      ]
    },
    {
      "cell_type": "markdown",
      "metadata": {
        "id": "cqlBfhp8JwGX"
      },
      "source": [
        "> ## 3) Reshape Features\n",
        "* For 'Classification' Network"
      ]
    },
    {
      "cell_type": "code",
      "metadata": {
        "id": "xLFrT4duJ5Xu",
        "colab": {
          "base_uri": "https://localhost:8080/"
        },
        "outputId": "e22e2f0e-75db-49f4-bbd9-ff6200ab9b57"
      },
      "source": [
        "train_features = np.reshape(train_features, (2000, 4 * 4 * 512))\n",
        "valid_features = np.reshape(valid_features, (1000, 4 * 4 * 512))\n",
        "test_features = np.reshape(test_features, (1000, 4 * 4 * 512))\n",
        "\n",
        "train_features.shape, valid_features.shape, test_features.shape"
      ],
      "execution_count": null,
      "outputs": [
        {
          "output_type": "execute_result",
          "data": {
            "text/plain": [
              "((2000, 8192), (1000, 8192), (1000, 8192))"
            ]
          },
          "metadata": {},
          "execution_count": 13
        }
      ]
    },
    {
      "cell_type": "markdown",
      "metadata": {
        "id": "NTwZiSjiop3v"
      },
      "source": [
        "# V. Keras DNN Modeling with VGG-16 Featured Data"
      ]
    },
    {
      "cell_type": "markdown",
      "metadata": {
        "id": "j5CT0TurJCkc"
      },
      "source": [
        "> ## 1) Model Define"
      ]
    },
    {
      "cell_type": "markdown",
      "metadata": {
        "id": "ydDCl0jTJD58"
      },
      "source": [
        "* 'Classification' Network Only\n",
        "* Dropout Layer"
      ]
    },
    {
      "cell_type": "code",
      "metadata": {
        "id": "II0DskRdAcHS"
      },
      "source": [
        "from tensorflow.keras import models, layers\n",
        "\n",
        "model = models.Sequential()\n",
        "model.add(layers.Dense(256, activation = 'relu', input_dim = 4 * 4 * 512))\n",
        "model.add(layers.Dropout(0.5))\n",
        "model.add(layers.Dense(1, activation = 'sigmoid'))"
      ],
      "execution_count": null,
      "outputs": []
    },
    {
      "cell_type": "code",
      "metadata": {
        "id": "wbtjOA4XMTUd",
        "colab": {
          "base_uri": "https://localhost:8080/"
        },
        "outputId": "63ccdbc8-16a1-4bd3-e232-792bded0df36"
      },
      "source": [
        "model.summary()"
      ],
      "execution_count": null,
      "outputs": [
        {
          "output_type": "stream",
          "name": "stdout",
          "text": [
            "Model: \"sequential\"\n",
            "_________________________________________________________________\n",
            " Layer (type)                Output Shape              Param #   \n",
            "=================================================================\n",
            " dense (Dense)               (None, 256)               2097408   \n",
            "                                                                 \n",
            " dropout (Dropout)           (None, 256)               0         \n",
            "                                                                 \n",
            " dense_1 (Dense)             (None, 1)                 257       \n",
            "                                                                 \n",
            "=================================================================\n",
            "Total params: 2,097,665\n",
            "Trainable params: 2,097,665\n",
            "Non-trainable params: 0\n",
            "_________________________________________________________________\n"
          ]
        }
      ]
    },
    {
      "cell_type": "markdown",
      "metadata": {
        "id": "tpjBDBeYoyuj"
      },
      "source": [
        "> ## 2) Model Compile"
      ]
    },
    {
      "cell_type": "markdown",
      "metadata": {
        "id": "f3sxkQa0JoUr"
      },
      "source": [
        "* 모델 학습방법 설정"
      ]
    },
    {
      "cell_type": "code",
      "metadata": {
        "id": "AyK_t1qwAi6M"
      },
      "source": [
        "model.compile(loss = 'binary_crossentropy',\n",
        "              optimizer = 'adam',\n",
        "              metrics = ['accuracy'])"
      ],
      "execution_count": null,
      "outputs": []
    },
    {
      "cell_type": "markdown",
      "metadata": {
        "id": "umiq4B-Xo3OB"
      },
      "source": [
        "> ## 3) Model Fit"
      ]
    },
    {
      "cell_type": "markdown",
      "metadata": {
        "id": "1KuXREziKMD1"
      },
      "source": [
        "* 약 1분"
      ]
    },
    {
      "cell_type": "code",
      "metadata": {
        "id": "zxwqwAqRAqRP",
        "colab": {
          "base_uri": "https://localhost:8080/"
        },
        "outputId": "9e38499b-7a37-460d-84cb-36d3e68155c9"
      },
      "source": [
        "%%time\n",
        "\n",
        "Hist_dandc = model.fit(train_features, train_labels,\n",
        "                       epochs = 100,\n",
        "                       batch_size = 20,\n",
        "                       validation_data = (valid_features, valid_labels))"
      ],
      "execution_count": null,
      "outputs": [
        {
          "output_type": "stream",
          "name": "stdout",
          "text": [
            "Epoch 1/100\n",
            "100/100 [==============================] - 2s 6ms/step - loss: 0.4287 - accuracy: 0.8130 - val_loss: 0.2675 - val_accuracy: 0.8790\n",
            "Epoch 2/100\n",
            "100/100 [==============================] - 0s 4ms/step - loss: 0.2758 - accuracy: 0.8870 - val_loss: 0.2421 - val_accuracy: 0.9000\n",
            "Epoch 3/100\n",
            "100/100 [==============================] - 0s 4ms/step - loss: 0.2201 - accuracy: 0.9070 - val_loss: 0.2369 - val_accuracy: 0.9060\n",
            "Epoch 4/100\n",
            "100/100 [==============================] - 0s 4ms/step - loss: 0.1734 - accuracy: 0.9300 - val_loss: 0.2515 - val_accuracy: 0.8970\n",
            "Epoch 5/100\n",
            "100/100 [==============================] - 0s 4ms/step - loss: 0.1440 - accuracy: 0.9430 - val_loss: 0.3146 - val_accuracy: 0.8780\n",
            "Epoch 6/100\n",
            "100/100 [==============================] - 0s 4ms/step - loss: 0.1094 - accuracy: 0.9605 - val_loss: 0.2809 - val_accuracy: 0.8960\n",
            "Epoch 7/100\n",
            "100/100 [==============================] - 0s 5ms/step - loss: 0.0954 - accuracy: 0.9625 - val_loss: 0.2650 - val_accuracy: 0.9000\n",
            "Epoch 8/100\n",
            "100/100 [==============================] - 1s 5ms/step - loss: 0.0799 - accuracy: 0.9670 - val_loss: 0.2985 - val_accuracy: 0.8940\n",
            "Epoch 9/100\n",
            "100/100 [==============================] - 1s 6ms/step - loss: 0.0642 - accuracy: 0.9765 - val_loss: 0.2936 - val_accuracy: 0.9010\n",
            "Epoch 10/100\n",
            "100/100 [==============================] - 1s 5ms/step - loss: 0.0489 - accuracy: 0.9820 - val_loss: 0.3053 - val_accuracy: 0.8970\n",
            "Epoch 11/100\n",
            "100/100 [==============================] - 0s 5ms/step - loss: 0.0457 - accuracy: 0.9840 - val_loss: 0.3333 - val_accuracy: 0.9040\n",
            "Epoch 12/100\n",
            "100/100 [==============================] - 0s 5ms/step - loss: 0.0351 - accuracy: 0.9870 - val_loss: 0.3580 - val_accuracy: 0.8940\n",
            "Epoch 13/100\n",
            "100/100 [==============================] - 0s 4ms/step - loss: 0.0336 - accuracy: 0.9900 - val_loss: 0.3655 - val_accuracy: 0.8970\n",
            "Epoch 14/100\n",
            "100/100 [==============================] - 0s 4ms/step - loss: 0.0288 - accuracy: 0.9910 - val_loss: 0.3753 - val_accuracy: 0.8990\n",
            "Epoch 15/100\n",
            "100/100 [==============================] - 0s 4ms/step - loss: 0.0367 - accuracy: 0.9845 - val_loss: 0.3571 - val_accuracy: 0.9000\n",
            "Epoch 16/100\n",
            "100/100 [==============================] - 0s 4ms/step - loss: 0.0252 - accuracy: 0.9950 - val_loss: 0.4184 - val_accuracy: 0.8960\n",
            "Epoch 17/100\n",
            "100/100 [==============================] - 0s 4ms/step - loss: 0.0239 - accuracy: 0.9910 - val_loss: 0.4168 - val_accuracy: 0.8950\n",
            "Epoch 18/100\n",
            "100/100 [==============================] - 0s 4ms/step - loss: 0.0223 - accuracy: 0.9935 - val_loss: 0.3949 - val_accuracy: 0.8990\n",
            "Epoch 19/100\n",
            "100/100 [==============================] - 0s 4ms/step - loss: 0.0271 - accuracy: 0.9905 - val_loss: 0.3927 - val_accuracy: 0.9080\n",
            "Epoch 20/100\n",
            "100/100 [==============================] - 0s 4ms/step - loss: 0.0362 - accuracy: 0.9880 - val_loss: 0.4691 - val_accuracy: 0.9000\n",
            "Epoch 21/100\n",
            "100/100 [==============================] - 0s 4ms/step - loss: 0.0216 - accuracy: 0.9920 - val_loss: 0.5088 - val_accuracy: 0.9050\n",
            "Epoch 22/100\n",
            "100/100 [==============================] - 0s 4ms/step - loss: 0.0199 - accuracy: 0.9945 - val_loss: 0.5077 - val_accuracy: 0.8860\n",
            "Epoch 23/100\n",
            "100/100 [==============================] - 0s 4ms/step - loss: 0.0232 - accuracy: 0.9925 - val_loss: 0.4316 - val_accuracy: 0.8970\n",
            "Epoch 24/100\n",
            "100/100 [==============================] - 0s 4ms/step - loss: 0.0263 - accuracy: 0.9920 - val_loss: 0.4109 - val_accuracy: 0.8940\n",
            "Epoch 25/100\n",
            "100/100 [==============================] - 0s 4ms/step - loss: 0.0406 - accuracy: 0.9870 - val_loss: 0.3673 - val_accuracy: 0.9020\n",
            "Epoch 26/100\n",
            "100/100 [==============================] - 0s 4ms/step - loss: 0.0338 - accuracy: 0.9875 - val_loss: 0.4815 - val_accuracy: 0.9000\n",
            "Epoch 27/100\n",
            "100/100 [==============================] - 0s 4ms/step - loss: 0.0269 - accuracy: 0.9905 - val_loss: 0.4411 - val_accuracy: 0.9000\n",
            "Epoch 28/100\n",
            "100/100 [==============================] - 0s 4ms/step - loss: 0.0124 - accuracy: 0.9960 - val_loss: 0.4924 - val_accuracy: 0.9060\n",
            "Epoch 29/100\n",
            "100/100 [==============================] - 0s 4ms/step - loss: 0.0150 - accuracy: 0.9940 - val_loss: 0.4560 - val_accuracy: 0.8960\n",
            "Epoch 30/100\n",
            "100/100 [==============================] - 0s 4ms/step - loss: 0.0206 - accuracy: 0.9925 - val_loss: 0.6286 - val_accuracy: 0.8820\n",
            "Epoch 31/100\n",
            "100/100 [==============================] - 0s 4ms/step - loss: 0.0151 - accuracy: 0.9955 - val_loss: 0.4505 - val_accuracy: 0.9020\n",
            "Epoch 32/100\n",
            "100/100 [==============================] - 0s 4ms/step - loss: 0.0098 - accuracy: 0.9965 - val_loss: 0.5724 - val_accuracy: 0.9110\n",
            "Epoch 33/100\n",
            "100/100 [==============================] - 0s 4ms/step - loss: 0.0166 - accuracy: 0.9940 - val_loss: 0.5305 - val_accuracy: 0.8960\n",
            "Epoch 34/100\n",
            "100/100 [==============================] - 0s 4ms/step - loss: 0.0119 - accuracy: 0.9965 - val_loss: 0.5103 - val_accuracy: 0.8910\n",
            "Epoch 35/100\n",
            "100/100 [==============================] - 0s 5ms/step - loss: 0.0272 - accuracy: 0.9920 - val_loss: 0.4743 - val_accuracy: 0.9070\n",
            "Epoch 36/100\n",
            "100/100 [==============================] - 1s 5ms/step - loss: 0.0319 - accuracy: 0.9880 - val_loss: 0.5057 - val_accuracy: 0.8980\n",
            "Epoch 37/100\n",
            "100/100 [==============================] - 1s 6ms/step - loss: 0.0141 - accuracy: 0.9955 - val_loss: 0.5310 - val_accuracy: 0.9020\n",
            "Epoch 38/100\n",
            "100/100 [==============================] - 1s 5ms/step - loss: 0.0207 - accuracy: 0.9925 - val_loss: 0.5457 - val_accuracy: 0.8900\n",
            "Epoch 39/100\n",
            "100/100 [==============================] - 0s 4ms/step - loss: 0.0227 - accuracy: 0.9900 - val_loss: 0.5453 - val_accuracy: 0.8940\n",
            "Epoch 40/100\n",
            "100/100 [==============================] - 0s 4ms/step - loss: 0.0560 - accuracy: 0.9750 - val_loss: 0.4648 - val_accuracy: 0.8810\n",
            "Epoch 41/100\n",
            "100/100 [==============================] - 0s 4ms/step - loss: 0.0434 - accuracy: 0.9825 - val_loss: 0.4896 - val_accuracy: 0.8880\n",
            "Epoch 42/100\n",
            "100/100 [==============================] - 0s 4ms/step - loss: 0.0273 - accuracy: 0.9895 - val_loss: 0.6369 - val_accuracy: 0.8780\n",
            "Epoch 43/100\n",
            "100/100 [==============================] - 0s 4ms/step - loss: 0.0274 - accuracy: 0.9905 - val_loss: 0.4538 - val_accuracy: 0.8950\n",
            "Epoch 44/100\n",
            "100/100 [==============================] - 0s 4ms/step - loss: 0.0262 - accuracy: 0.9895 - val_loss: 0.5535 - val_accuracy: 0.8940\n",
            "Epoch 45/100\n",
            "100/100 [==============================] - 0s 4ms/step - loss: 0.0160 - accuracy: 0.9940 - val_loss: 0.5224 - val_accuracy: 0.8890\n",
            "Epoch 46/100\n",
            "100/100 [==============================] - 0s 4ms/step - loss: 0.0072 - accuracy: 0.9985 - val_loss: 0.5993 - val_accuracy: 0.8920\n",
            "Epoch 47/100\n",
            "100/100 [==============================] - 0s 4ms/step - loss: 0.0199 - accuracy: 0.9935 - val_loss: 0.5568 - val_accuracy: 0.8910\n",
            "Epoch 48/100\n",
            "100/100 [==============================] - 0s 4ms/step - loss: 0.0227 - accuracy: 0.9930 - val_loss: 0.6523 - val_accuracy: 0.8920\n",
            "Epoch 49/100\n",
            "100/100 [==============================] - 0s 4ms/step - loss: 0.0178 - accuracy: 0.9940 - val_loss: 0.5427 - val_accuracy: 0.8950\n",
            "Epoch 50/100\n",
            "100/100 [==============================] - 0s 4ms/step - loss: 0.0113 - accuracy: 0.9960 - val_loss: 0.8503 - val_accuracy: 0.8710\n",
            "Epoch 51/100\n",
            "100/100 [==============================] - 0s 4ms/step - loss: 0.0309 - accuracy: 0.9905 - val_loss: 0.5452 - val_accuracy: 0.8980\n",
            "Epoch 52/100\n",
            "100/100 [==============================] - 0s 4ms/step - loss: 0.0138 - accuracy: 0.9955 - val_loss: 0.6430 - val_accuracy: 0.8880\n",
            "Epoch 53/100\n",
            "100/100 [==============================] - 0s 4ms/step - loss: 0.0105 - accuracy: 0.9965 - val_loss: 0.6451 - val_accuracy: 0.9030\n",
            "Epoch 54/100\n",
            "100/100 [==============================] - 0s 4ms/step - loss: 0.0130 - accuracy: 0.9955 - val_loss: 0.5673 - val_accuracy: 0.8960\n",
            "Epoch 55/100\n",
            "100/100 [==============================] - 0s 4ms/step - loss: 0.0068 - accuracy: 0.9980 - val_loss: 0.6159 - val_accuracy: 0.9000\n",
            "Epoch 56/100\n",
            "100/100 [==============================] - 0s 4ms/step - loss: 0.0054 - accuracy: 0.9985 - val_loss: 0.6309 - val_accuracy: 0.8960\n",
            "Epoch 57/100\n",
            "100/100 [==============================] - 0s 4ms/step - loss: 0.0462 - accuracy: 0.9835 - val_loss: 0.5148 - val_accuracy: 0.8810\n",
            "Epoch 58/100\n",
            "100/100 [==============================] - 0s 4ms/step - loss: 0.0308 - accuracy: 0.9890 - val_loss: 0.6850 - val_accuracy: 0.8910\n",
            "Epoch 59/100\n",
            "100/100 [==============================] - 0s 4ms/step - loss: 0.0404 - accuracy: 0.9860 - val_loss: 0.5227 - val_accuracy: 0.9000\n",
            "Epoch 60/100\n",
            "100/100 [==============================] - 0s 4ms/step - loss: 0.0191 - accuracy: 0.9930 - val_loss: 0.6045 - val_accuracy: 0.9010\n",
            "Epoch 61/100\n",
            "100/100 [==============================] - 0s 4ms/step - loss: 0.0144 - accuracy: 0.9935 - val_loss: 0.5389 - val_accuracy: 0.9030\n",
            "Epoch 62/100\n",
            "100/100 [==============================] - 0s 4ms/step - loss: 0.0112 - accuracy: 0.9980 - val_loss: 0.6054 - val_accuracy: 0.8930\n",
            "Epoch 63/100\n",
            "100/100 [==============================] - 0s 5ms/step - loss: 0.0131 - accuracy: 0.9945 - val_loss: 0.5714 - val_accuracy: 0.9060\n",
            "Epoch 64/100\n",
            "100/100 [==============================] - 1s 5ms/step - loss: 0.0130 - accuracy: 0.9935 - val_loss: 0.6283 - val_accuracy: 0.8980\n",
            "Epoch 65/100\n",
            "100/100 [==============================] - 1s 5ms/step - loss: 0.0077 - accuracy: 0.9970 - val_loss: 0.6160 - val_accuracy: 0.9020\n",
            "Epoch 66/100\n",
            "100/100 [==============================] - 1s 5ms/step - loss: 0.0138 - accuracy: 0.9950 - val_loss: 0.7588 - val_accuracy: 0.9010\n",
            "Epoch 67/100\n",
            "100/100 [==============================] - 1s 7ms/step - loss: 0.0111 - accuracy: 0.9960 - val_loss: 0.6488 - val_accuracy: 0.9090\n",
            "Epoch 68/100\n",
            "100/100 [==============================] - 0s 4ms/step - loss: 0.0109 - accuracy: 0.9955 - val_loss: 0.6251 - val_accuracy: 0.9010\n",
            "Epoch 69/100\n",
            "100/100 [==============================] - 1s 7ms/step - loss: 0.0149 - accuracy: 0.9945 - val_loss: 0.6030 - val_accuracy: 0.9020\n",
            "Epoch 70/100\n",
            "100/100 [==============================] - 0s 4ms/step - loss: 0.0135 - accuracy: 0.9935 - val_loss: 0.6974 - val_accuracy: 0.8940\n",
            "Epoch 71/100\n",
            "100/100 [==============================] - 0s 5ms/step - loss: 0.0095 - accuracy: 0.9955 - val_loss: 0.7345 - val_accuracy: 0.9060\n",
            "Epoch 72/100\n",
            "100/100 [==============================] - 0s 4ms/step - loss: 0.0118 - accuracy: 0.9955 - val_loss: 0.7065 - val_accuracy: 0.8970\n",
            "Epoch 73/100\n",
            "100/100 [==============================] - 0s 4ms/step - loss: 0.0343 - accuracy: 0.9885 - val_loss: 0.7131 - val_accuracy: 0.9020\n",
            "Epoch 74/100\n",
            "100/100 [==============================] - 0s 4ms/step - loss: 0.0180 - accuracy: 0.9925 - val_loss: 0.6052 - val_accuracy: 0.8890\n",
            "Epoch 75/100\n",
            "100/100 [==============================] - 0s 4ms/step - loss: 0.0157 - accuracy: 0.9945 - val_loss: 0.6993 - val_accuracy: 0.8960\n",
            "Epoch 76/100\n",
            "100/100 [==============================] - 0s 4ms/step - loss: 0.0190 - accuracy: 0.9925 - val_loss: 0.8397 - val_accuracy: 0.8940\n",
            "Epoch 77/100\n",
            "100/100 [==============================] - 0s 4ms/step - loss: 0.0169 - accuracy: 0.9930 - val_loss: 0.6697 - val_accuracy: 0.8970\n",
            "Epoch 78/100\n",
            "100/100 [==============================] - 0s 4ms/step - loss: 0.0370 - accuracy: 0.9895 - val_loss: 0.6287 - val_accuracy: 0.9030\n",
            "Epoch 79/100\n",
            "100/100 [==============================] - 0s 4ms/step - loss: 0.0157 - accuracy: 0.9935 - val_loss: 0.5796 - val_accuracy: 0.9000\n",
            "Epoch 80/100\n",
            "100/100 [==============================] - 0s 4ms/step - loss: 0.0129 - accuracy: 0.9940 - val_loss: 0.6050 - val_accuracy: 0.8990\n",
            "Epoch 81/100\n",
            "100/100 [==============================] - 0s 4ms/step - loss: 0.0109 - accuracy: 0.9965 - val_loss: 0.6710 - val_accuracy: 0.9040\n",
            "Epoch 82/100\n",
            "100/100 [==============================] - 0s 4ms/step - loss: 0.0166 - accuracy: 0.9940 - val_loss: 0.8044 - val_accuracy: 0.9020\n",
            "Epoch 83/100\n",
            "100/100 [==============================] - 0s 4ms/step - loss: 0.0129 - accuracy: 0.9940 - val_loss: 0.8113 - val_accuracy: 0.8950\n",
            "Epoch 84/100\n",
            "100/100 [==============================] - 0s 4ms/step - loss: 0.0150 - accuracy: 0.9945 - val_loss: 0.7045 - val_accuracy: 0.9020\n",
            "Epoch 85/100\n",
            "100/100 [==============================] - 0s 4ms/step - loss: 0.0054 - accuracy: 0.9985 - val_loss: 0.6031 - val_accuracy: 0.9020\n",
            "Epoch 86/100\n",
            "100/100 [==============================] - 0s 4ms/step - loss: 0.0017 - accuracy: 1.0000 - val_loss: 0.7810 - val_accuracy: 0.8960\n",
            "Epoch 87/100\n",
            "100/100 [==============================] - 0s 4ms/step - loss: 0.0032 - accuracy: 0.9980 - val_loss: 0.8770 - val_accuracy: 0.8940\n",
            "Epoch 88/100\n",
            "100/100 [==============================] - 0s 4ms/step - loss: 0.0079 - accuracy: 0.9960 - val_loss: 0.8036 - val_accuracy: 0.8990\n",
            "Epoch 89/100\n",
            "100/100 [==============================] - 0s 4ms/step - loss: 0.0202 - accuracy: 0.9920 - val_loss: 0.5760 - val_accuracy: 0.9020\n",
            "Epoch 90/100\n",
            "100/100 [==============================] - 1s 5ms/step - loss: 0.0039 - accuracy: 0.9990 - val_loss: 0.7272 - val_accuracy: 0.9030\n",
            "Epoch 91/100\n",
            "100/100 [==============================] - 1s 6ms/step - loss: 0.0018 - accuracy: 1.0000 - val_loss: 0.7901 - val_accuracy: 0.9040\n",
            "Epoch 92/100\n",
            "100/100 [==============================] - 1s 5ms/step - loss: 0.0141 - accuracy: 0.9950 - val_loss: 0.6644 - val_accuracy: 0.8990\n",
            "Epoch 93/100\n",
            "100/100 [==============================] - 1s 6ms/step - loss: 0.0479 - accuracy: 0.9860 - val_loss: 0.7346 - val_accuracy: 0.8880\n",
            "Epoch 94/100\n",
            "100/100 [==============================] - 0s 4ms/step - loss: 0.0178 - accuracy: 0.9925 - val_loss: 0.6184 - val_accuracy: 0.8960\n",
            "Epoch 95/100\n",
            "100/100 [==============================] - 0s 4ms/step - loss: 0.0072 - accuracy: 0.9970 - val_loss: 0.6576 - val_accuracy: 0.9050\n",
            "Epoch 96/100\n",
            "100/100 [==============================] - 0s 5ms/step - loss: 0.0133 - accuracy: 0.9940 - val_loss: 0.6195 - val_accuracy: 0.9000\n",
            "Epoch 97/100\n",
            "100/100 [==============================] - 0s 4ms/step - loss: 0.0082 - accuracy: 0.9985 - val_loss: 0.7250 - val_accuracy: 0.8980\n",
            "Epoch 98/100\n",
            "100/100 [==============================] - 0s 5ms/step - loss: 0.0369 - accuracy: 0.9865 - val_loss: 0.5017 - val_accuracy: 0.8850\n",
            "Epoch 99/100\n",
            "100/100 [==============================] - 0s 4ms/step - loss: 0.0297 - accuracy: 0.9885 - val_loss: 0.4760 - val_accuracy: 0.9030\n",
            "Epoch 100/100\n",
            "100/100 [==============================] - 0s 4ms/step - loss: 0.0085 - accuracy: 0.9980 - val_loss: 0.6686 - val_accuracy: 0.9040\n",
            "CPU times: user 45.5 s, sys: 3.5 s, total: 49 s\n",
            "Wall time: 46.4 s\n"
          ]
        }
      ]
    },
    {
      "cell_type": "markdown",
      "metadata": {
        "id": "FnnIyFtNKhbD"
      },
      "source": [
        "> ## 4) 학습 결과 시각화"
      ]
    },
    {
      "cell_type": "code",
      "metadata": {
        "id": "OQ4ke8BbKi50",
        "colab": {
          "base_uri": "https://localhost:8080/",
          "height": 350
        },
        "outputId": "378792de-d937-4a46-f188-7b8b68b43c15"
      },
      "source": [
        "import matplotlib.pyplot as plt\n",
        "\n",
        "epochs = range(1, len(Hist_dandc.history['loss']) + 1)\n",
        "\n",
        "plt.figure(figsize = (15, 5))\n",
        "\n",
        "plt.subplot(1, 2, 1)\n",
        "plt.plot(epochs, Hist_dandc.history['loss'], 'b-')\n",
        "plt.plot(epochs, Hist_dandc.history['val_loss'], 'r--')\n",
        "plt.title('Training & Validation Loss')\n",
        "plt.xlabel('Epochs')\n",
        "plt.ylabel('Loss')\n",
        "plt.legend(['Training Loss', 'Validation Loss'])\n",
        "plt.grid()\n",
        "\n",
        "plt.subplot(1, 2, 2)\n",
        "plt.plot(epochs, Hist_dandc.history['accuracy'], 'b-')\n",
        "plt.plot(epochs, Hist_dandc.history['val_accuracy'], 'r--')\n",
        "plt.title('Training & Validation Accuracy')\n",
        "plt.xlabel('Epochs')\n",
        "plt.ylabel('Accuracy')\n",
        "plt.legend(['Training Accuracy', 'Validation Accuracy'])\n",
        "plt.grid()\n",
        "\n",
        "plt.show()"
      ],
      "execution_count": null,
      "outputs": [
        {
          "output_type": "display_data",
          "data": {
            "text/plain": [
              "<Figure size 1080x360 with 2 Axes>"
            ],
            "image/png": "[encoded data removed]"
          },
          "metadata": {
            "needs_background": "light"
          }
        }
      ]
    },
    {
      "cell_type": "markdown",
      "metadata": {
        "id": "_uJSOLBko7lh"
      },
      "source": [
        "> ## 5) Model Evaluate"
      ]
    },
    {
      "cell_type": "markdown",
      "metadata": {
        "id": "i-TqAB2ALGzZ"
      },
      "source": [
        "* Loss & Accuracy"
      ]
    },
    {
      "cell_type": "code",
      "metadata": {
        "id": "OF30PuZsAxQJ",
        "colab": {
          "base_uri": "https://localhost:8080/"
        },
        "outputId": "e539abc5-3011-4dcf-d8a4-2d469bb8fb89"
      },
      "source": [
        "loss, accuracy = model.evaluate(test_features, test_labels, verbose = 0)\n",
        "\n",
        "print('Loss = {:.5f}'.format(loss))\n",
        "print('Accuracy = {:.5f}'.format(accuracy))"
      ],
      "execution_count": null,
      "outputs": [
        {
          "output_type": "stream",
          "name": "stdout",
          "text": [
            "Loss = 0.79219\n",
            "Accuracy = 0.86900\n"
          ]
        }
      ]
    },
    {
      "cell_type": "markdown",
      "metadata": {
        "id": "sN48I9GrLxOX"
      },
      "source": [
        "# \n",
        "# \n",
        "# \n",
        "# The End\n",
        "# \n",
        "# \n",
        "# "
      ]
    }
  ]
}