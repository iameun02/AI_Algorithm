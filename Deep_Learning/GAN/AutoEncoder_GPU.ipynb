{
  "nbformat": 4,
  "nbformat_minor": 0,
  "metadata": {
    "colab": {
      "provenance": []
    },
    "kernelspec": {
      "name": "python3",
      "display_name": "Python 3"
    },
    "accelerator": "GPU"
  },
  "cells": [
    {
      "cell_type": "markdown",
      "metadata": {
        "id": "_FBddBpMHE1L"
      },
      "source": [
        "# AutoEncoder(AE)\n",
        "\n",
        "* 입력데이터의 차원축소를 통해 의미있는 잠재 공간(Latent Space/Manifold)을 학습\n",
        " - Encoder 학습을 위해 Decoder를 사용"
      ]
    },
    {
      "cell_type": "code",
      "metadata": {
        "id": "RbPgODpVzdHI"
      },
      "source": [
        "import warnings\n",
        "warnings.filterwarnings('ignore')"
      ],
      "execution_count": 1,
      "outputs": []
    },
    {
      "cell_type": "markdown",
      "metadata": {
        "id": "4WeHD_uOUbdK"
      },
      "source": [
        "# I. Load MNIST Dataset"
      ]
    },
    {
      "cell_type": "markdown",
      "metadata": {
        "id": "2gFPNAltcHDt"
      },
      "source": [
        "> ## 1) X_train and X_test"
      ]
    },
    {
      "cell_type": "code",
      "metadata": {
        "id": "ej1XW5LbDMXs",
        "colab": {
          "base_uri": "https://localhost:8080/"
        },
        "outputId": "f10d2ce6-8ddc-481a-a376-05a0e4c7508b"
      },
      "source": [
        "from tensorflow.keras.datasets import mnist\n",
        "\n",
        "(X_train, y_train), (X_test, y_test) = mnist.load_data()"
      ],
      "execution_count": 2,
      "outputs": [
        {
          "output_type": "stream",
          "name": "stdout",
          "text": [
            "Downloading data from https://storage.googleapis.com/tensorflow/tf-keras-datasets/mnist.npz\n",
            "11490434/11490434 [==============================] - 2s 0us/step\n"
          ]
        }
      ]
    },
    {
      "cell_type": "code",
      "metadata": {
        "id": "UHXEXK-oVXUS",
        "colab": {
          "base_uri": "https://localhost:8080/"
        },
        "outputId": "1c00aa46-5d0b-47a1-8087-7245c3599762"
      },
      "source": [
        "X_train.shape, X_test.shape"
      ],
      "execution_count": 3,
      "outputs": [
        {
          "output_type": "execute_result",
          "data": {
            "text/plain": [
              "((60000, 28, 28), (10000, 28, 28))"
            ]
          },
          "metadata": {},
          "execution_count": 3
        }
      ]
    },
    {
      "cell_type": "markdown",
      "metadata": {
        "id": "5lcY8n5GVMqb"
      },
      "source": [
        "> ## 2) Normalization and Reshape"
      ]
    },
    {
      "cell_type": "code",
      "metadata": {
        "id": "XShJmZ29DN8N"
      },
      "source": [
        "X_train = X_train / 255.\n",
        "X_test = X_test / 255.\n",
        "\n",
        "X_train = X_train.reshape(60000, 28 * 28)\n",
        "X_test = X_test.reshape(10000, 28 * 28)"
      ],
      "execution_count": 4,
      "outputs": []
    },
    {
      "cell_type": "code",
      "metadata": {
        "id": "6Z5_FWAiWR3u",
        "colab": {
          "base_uri": "https://localhost:8080/"
        },
        "outputId": "c9ad86c1-3a38-4775-c3cb-a8314864495f"
      },
      "source": [
        "X_train.shape, X_test.shape"
      ],
      "execution_count": 5,
      "outputs": [
        {
          "output_type": "execute_result",
          "data": {
            "text/plain": [
              "((60000, 784), (10000, 784))"
            ]
          },
          "metadata": {},
          "execution_count": 5
        }
      ]
    },
    {
      "cell_type": "markdown",
      "metadata": {
        "id": "vvB4efbrUndK"
      },
      "source": [
        "# II. Keras Modeling with Functional API"
      ]
    },
    {
      "cell_type": "markdown",
      "metadata": {
        "id": "QFIgyyNNnWrO"
      },
      "source": [
        "> ## 1) 'Latent Space' Size"
      ]
    },
    {
      "cell_type": "code",
      "metadata": {
        "id": "EilSWn-YEUO5"
      },
      "source": [
        "encoding_dim = 5 #latent Space, 표현할수 있는 크기를 높힐수록 디코딩 수준이 높아 진다."
      ],
      "execution_count": 26,
      "outputs": []
    },
    {
      "cell_type": "markdown",
      "metadata": {
        "id": "rtjzPfv8XpJL"
      },
      "source": [
        "> ## 2) Encoder\n",
        "\n",
        "* Input"
      ]
    },
    {
      "cell_type": "code",
      "metadata": {
        "id": "3jxR1CLgGZUe"
      },
      "source": [
        "from tensorflow.keras import layers\n",
        "\n",
        "input_img = layers.Input(shape = (784, ))"
      ],
      "execution_count": 11,
      "outputs": []
    },
    {
      "cell_type": "markdown",
      "metadata": {
        "id": "fls6FRJ-X_9O"
      },
      "source": [
        "* Encoding Layers and Encoding Model"
      ]
    },
    {
      "cell_type": "code",
      "metadata": {
        "id": "L8xfkS0PGhob"
      },
      "source": [
        "encoded = layers.Dense(256, activation = 'elu')(input_img)\n",
        "encoded = layers.Dense(128, activation = 'elu')(encoded)\n",
        "encoded = layers.Dense(encoding_dim, activation = 'elu')(encoded)"
      ],
      "execution_count": 12,
      "outputs": []
    },
    {
      "cell_type": "markdown",
      "metadata": {
        "id": "ymArgitqUwN0"
      },
      "source": [
        "> ## 3) Decoder\n",
        "\n",
        "* Decoding Lyaers and Decoding Model"
      ]
    },
    {
      "cell_type": "code",
      "metadata": {
        "id": "tT8wkbLAGj5s"
      },
      "source": [
        "decoded = layers.Dense(128, activation = 'elu')(encoded)\n",
        "decoded = layers.Dense(256, activation = 'elu')(decoded)\n",
        "decoded = layers.Dense(784, activation = 'sigmoid')(decoded)"
      ],
      "execution_count": 13,
      "outputs": []
    },
    {
      "cell_type": "markdown",
      "metadata": {
        "id": "k2ulaRzxZxFh"
      },
      "source": [
        "# III. AutoEncoder Model"
      ]
    },
    {
      "cell_type": "markdown",
      "source": [
        "\n",
        "<b> AutoEncoder Model </b> <br>\n",
        "\n",
        "```인코더 파라미터```에 의해 latent space(내부표현)를 생성 <br>\n",
        "```디코더 파라미터```에 의해 latent space를 ```복원```<br>\n",
        "\b이를 위해 ```양쪽 파라미터를 학습```시키는 것이며,<br>\n",
        "생성보다는 ```복원```의 개념에 가깝다. <br><br>\n",
        "\n",
        "- 일반적으로 node 수는 <br>\n",
        "encoder - decoder를 나비모양인 대칭형이 되게 개수를 맞춰 사용\n",
        "\n",
        "- 활용1. 디코더를 통해 원본을 복원할 수 있어, 노이즈를 제거 후 원복 \n",
        "\n",
        "\n",
        "- 활용2. 주성분분석 (차원축소) \n"
      ],
      "metadata": {
        "id": "9wT6T-FwboGn"
      }
    },
    {
      "cell_type": "markdown",
      "metadata": {
        "id": "DgoL7RhroCLN"
      },
      "source": [
        "> ## 1) 'autoencoder' Model"
      ]
    },
    {
      "cell_type": "code",
      "metadata": {
        "id": "JpzpxHBTGmxh"
      },
      "source": [
        "from tensorflow.keras import models\n",
        "\n",
        "autoencoder = models.Model(input_img, decoded)"
      ],
      "execution_count": 14,
      "outputs": []
    },
    {
      "cell_type": "code",
      "metadata": {
        "id": "Cn6gY8-ykjKA",
        "colab": {
          "base_uri": "https://localhost:8080/"
        },
        "outputId": "3e8fcacc-8fe2-4658-8d66-0d477e89a5d5"
      },
      "source": [
        "autoencoder.summary()"
      ],
      "execution_count": 15,
      "outputs": [
        {
          "output_type": "stream",
          "name": "stdout",
          "text": [
            "Model: \"model\"\n",
            "_________________________________________________________________\n",
            " Layer (type)                Output Shape              Param #   \n",
            "=================================================================\n",
            " input_2 (InputLayer)        [(None, 784)]             0         \n",
            "                                                                 \n",
            " dense_6 (Dense)             (None, 256)               200960    \n",
            "                                                                 \n",
            " dense_7 (Dense)             (None, 128)               32896     \n",
            "                                                                 \n",
            " dense_8 (Dense)             (None, 5)                 645       \n",
            "                                                                 \n",
            " dense_9 (Dense)             (None, 128)               768       \n",
            "                                                                 \n",
            " dense_10 (Dense)            (None, 256)               33024     \n",
            "                                                                 \n",
            " dense_11 (Dense)            (None, 784)               201488    \n",
            "                                                                 \n",
            "=================================================================\n",
            "Total params: 469,781\n",
            "Trainable params: 469,781\n",
            "Non-trainable params: 0\n",
            "_________________________________________________________________\n"
          ]
        }
      ]
    },
    {
      "cell_type": "markdown",
      "metadata": {
        "id": "1pa13m44aIHl"
      },
      "source": [
        "> ## 2) 'encoder' Model"
      ]
    },
    {
      "cell_type": "code",
      "metadata": {
        "id": "3-q87PJqGpTt"
      },
      "source": [
        "encoder = models.Model(input_img, encoded)"
      ],
      "execution_count": 16,
      "outputs": []
    },
    {
      "cell_type": "code",
      "metadata": {
        "id": "3sr4PWhXkntG",
        "colab": {
          "base_uri": "https://localhost:8080/"
        },
        "outputId": "0a689d7b-8d58-4eca-b862-31d84b6a1dde"
      },
      "source": [
        "encoder.summary()"
      ],
      "execution_count": 17,
      "outputs": [
        {
          "output_type": "stream",
          "name": "stdout",
          "text": [
            "Model: \"model_1\"\n",
            "_________________________________________________________________\n",
            " Layer (type)                Output Shape              Param #   \n",
            "=================================================================\n",
            " input_2 (InputLayer)        [(None, 784)]             0         \n",
            "                                                                 \n",
            " dense_6 (Dense)             (None, 256)               200960    \n",
            "                                                                 \n",
            " dense_7 (Dense)             (None, 128)               32896     \n",
            "                                                                 \n",
            " dense_8 (Dense)             (None, 5)                 645       \n",
            "                                                                 \n",
            "=================================================================\n",
            "Total params: 234,501\n",
            "Trainable params: 234,501\n",
            "Non-trainable params: 0\n",
            "_________________________________________________________________\n"
          ]
        }
      ]
    },
    {
      "cell_type": "markdown",
      "metadata": {
        "id": "KejKI3YUaZcF"
      },
      "source": [
        "> ## 3) 'decoder' Model"
      ]
    },
    {
      "cell_type": "code",
      "metadata": {
        "id": "epqqeAcqGrs5"
      },
      "source": [
        "encoded_input = layers.Input(shape = (encoding_dim,))\n",
        "\n",
        "decoder_layer = autoencoder.layers[-3](encoded_input)\n",
        "decoder_layer = autoencoder.layers[-2](decoder_layer)\n",
        "decoder_layer = autoencoder.layers[-1](decoder_layer)\n",
        "\n",
        "decoder = models.Model(encoded_input, decoder_layer)"
      ],
      "execution_count": 18,
      "outputs": []
    },
    {
      "cell_type": "code",
      "metadata": {
        "id": "48ZrxZI_k1OA",
        "colab": {
          "base_uri": "https://localhost:8080/"
        },
        "outputId": "db39e29b-e6ee-4211-c5ce-79abb1c9f9c0"
      },
      "source": [
        "decoder.summary()"
      ],
      "execution_count": 19,
      "outputs": [
        {
          "output_type": "stream",
          "name": "stdout",
          "text": [
            "Model: \"model_2\"\n",
            "_________________________________________________________________\n",
            " Layer (type)                Output Shape              Param #   \n",
            "=================================================================\n",
            " input_3 (InputLayer)        [(None, 5)]               0         \n",
            "                                                                 \n",
            " dense_9 (Dense)             (None, 128)               768       \n",
            "                                                                 \n",
            " dense_10 (Dense)            (None, 256)               33024     \n",
            "                                                                 \n",
            " dense_11 (Dense)            (None, 784)               201488    \n",
            "                                                                 \n",
            "=================================================================\n",
            "Total params: 235,280\n",
            "Trainable params: 235,280\n",
            "Non-trainable params: 0\n",
            "_________________________________________________________________\n"
          ]
        }
      ]
    },
    {
      "cell_type": "markdown",
      "metadata": {
        "id": "Mx0sFds_acVA"
      },
      "source": [
        "# IV. Model Fit"
      ]
    },
    {
      "cell_type": "markdown",
      "metadata": {
        "id": "b0qbhR-Oohf7"
      },
      "source": [
        "> ## 1) Model Compile"
      ]
    },
    {
      "cell_type": "code",
      "metadata": {
        "id": "sbv4XJFmDKN1"
      },
      "source": [
        "autoencoder.compile(loss = 'binary_crossentropy',\n",
        "                    optimizer = 'adam',\n",
        "                    metrics =['accuracy']) #x > x기 때문에 accu를 보는 것이 의미가 없다."
      ],
      "execution_count": 21,
      "outputs": []
    },
    {
      "cell_type": "markdown",
      "metadata": {
        "id": "R9NHOiEOok7B"
      },
      "source": [
        "> ## 2) Model Training\n",
        "\n",
        "* 약 2분"
      ]
    },
    {
      "cell_type": "code",
      "metadata": {
        "id": "Agsm8iEYDPqM",
        "colab": {
          "base_uri": "https://localhost:8080/"
        },
        "outputId": "b2403bca-b4ec-4b33-c432-8f4b5695e7b9"
      },
      "source": [
        "%%time\n",
        "\n",
        "autoencoder.fit(X_train, X_train,\n",
        "                epochs = 60,\n",
        "                batch_size = 256,\n",
        "                validation_data = (X_test, X_test),\n",
        "                verbose = 1)"
      ],
      "execution_count": 22,
      "outputs": [
        {
          "output_type": "stream",
          "name": "stdout",
          "text": [
            "Epoch 1/60\n",
            "235/235 [==============================] - 8s 7ms/step - loss: 0.2394 - accuracy: 0.0119 - val_loss: 0.1997 - val_accuracy: 0.0146\n",
            "Epoch 2/60\n",
            "235/235 [==============================] - 1s 5ms/step - loss: 0.1931 - accuracy: 0.0162 - val_loss: 0.1861 - val_accuracy: 0.0135\n",
            "Epoch 3/60\n",
            "235/235 [==============================] - 1s 5ms/step - loss: 0.1825 - accuracy: 0.0115 - val_loss: 0.1783 - val_accuracy: 0.0099\n",
            "Epoch 4/60\n",
            "235/235 [==============================] - 1s 5ms/step - loss: 0.1723 - accuracy: 0.0108 - val_loss: 0.1660 - val_accuracy: 0.0110\n",
            "Epoch 5/60\n",
            "235/235 [==============================] - 1s 5ms/step - loss: 0.1634 - accuracy: 0.0113 - val_loss: 0.1611 - val_accuracy: 0.0104\n",
            "Epoch 6/60\n",
            "235/235 [==============================] - 1s 5ms/step - loss: 0.1594 - accuracy: 0.0117 - val_loss: 0.1584 - val_accuracy: 0.0135\n",
            "Epoch 7/60\n",
            "235/235 [==============================] - 1s 6ms/step - loss: 0.1567 - accuracy: 0.0121 - val_loss: 0.1559 - val_accuracy: 0.0125\n",
            "Epoch 8/60\n",
            "235/235 [==============================] - 2s 7ms/step - loss: 0.1543 - accuracy: 0.0123 - val_loss: 0.1523 - val_accuracy: 0.0127\n",
            "Epoch 9/60\n",
            "235/235 [==============================] - 1s 6ms/step - loss: 0.1488 - accuracy: 0.0109 - val_loss: 0.1473 - val_accuracy: 0.0129\n",
            "Epoch 10/60\n",
            "235/235 [==============================] - 1s 5ms/step - loss: 0.1455 - accuracy: 0.0115 - val_loss: 0.1444 - val_accuracy: 0.0135\n",
            "Epoch 11/60\n",
            "235/235 [==============================] - 1s 5ms/step - loss: 0.1435 - accuracy: 0.0117 - val_loss: 0.1429 - val_accuracy: 0.0116\n",
            "Epoch 12/60\n",
            "235/235 [==============================] - 1s 5ms/step - loss: 0.1420 - accuracy: 0.0113 - val_loss: 0.1416 - val_accuracy: 0.0137\n",
            "Epoch 13/60\n",
            "235/235 [==============================] - 1s 6ms/step - loss: 0.1407 - accuracy: 0.0113 - val_loss: 0.1406 - val_accuracy: 0.0145\n",
            "Epoch 14/60\n",
            "235/235 [==============================] - 1s 5ms/step - loss: 0.1396 - accuracy: 0.0115 - val_loss: 0.1396 - val_accuracy: 0.0103\n",
            "Epoch 15/60\n",
            "235/235 [==============================] - 1s 5ms/step - loss: 0.1386 - accuracy: 0.0115 - val_loss: 0.1386 - val_accuracy: 0.0105\n",
            "Epoch 16/60\n",
            "235/235 [==============================] - 2s 7ms/step - loss: 0.1378 - accuracy: 0.0107 - val_loss: 0.1376 - val_accuracy: 0.0109\n",
            "Epoch 17/60\n",
            "235/235 [==============================] - 2s 7ms/step - loss: 0.1370 - accuracy: 0.0112 - val_loss: 0.1371 - val_accuracy: 0.0129\n",
            "Epoch 18/60\n",
            "235/235 [==============================] - 1s 6ms/step - loss: 0.1364 - accuracy: 0.0113 - val_loss: 0.1369 - val_accuracy: 0.0112\n",
            "Epoch 19/60\n",
            "235/235 [==============================] - 1s 5ms/step - loss: 0.1357 - accuracy: 0.0112 - val_loss: 0.1361 - val_accuracy: 0.0118\n",
            "Epoch 20/60\n",
            "235/235 [==============================] - 1s 5ms/step - loss: 0.1350 - accuracy: 0.0113 - val_loss: 0.1356 - val_accuracy: 0.0108\n",
            "Epoch 21/60\n",
            "235/235 [==============================] - 1s 5ms/step - loss: 0.1345 - accuracy: 0.0113 - val_loss: 0.1349 - val_accuracy: 0.0107\n",
            "Epoch 22/60\n",
            "235/235 [==============================] - 1s 5ms/step - loss: 0.1339 - accuracy: 0.0121 - val_loss: 0.1347 - val_accuracy: 0.0125\n",
            "Epoch 23/60\n",
            "235/235 [==============================] - 1s 6ms/step - loss: 0.1334 - accuracy: 0.0123 - val_loss: 0.1343 - val_accuracy: 0.0115\n",
            "Epoch 24/60\n",
            "235/235 [==============================] - 1s 6ms/step - loss: 0.1330 - accuracy: 0.0126 - val_loss: 0.1336 - val_accuracy: 0.0127\n",
            "Epoch 25/60\n",
            "235/235 [==============================] - 2s 7ms/step - loss: 0.1325 - accuracy: 0.0126 - val_loss: 0.1336 - val_accuracy: 0.0108\n",
            "Epoch 26/60\n",
            "235/235 [==============================] - 2s 7ms/step - loss: 0.1320 - accuracy: 0.0123 - val_loss: 0.1331 - val_accuracy: 0.0115\n",
            "Epoch 27/60\n",
            "235/235 [==============================] - 1s 6ms/step - loss: 0.1316 - accuracy: 0.0133 - val_loss: 0.1326 - val_accuracy: 0.0120\n",
            "Epoch 28/60\n",
            "235/235 [==============================] - 1s 5ms/step - loss: 0.1312 - accuracy: 0.0129 - val_loss: 0.1325 - val_accuracy: 0.0110\n",
            "Epoch 29/60\n",
            "235/235 [==============================] - 1s 6ms/step - loss: 0.1309 - accuracy: 0.0126 - val_loss: 0.1324 - val_accuracy: 0.0128\n",
            "Epoch 30/60\n",
            "235/235 [==============================] - 2s 7ms/step - loss: 0.1306 - accuracy: 0.0123 - val_loss: 0.1323 - val_accuracy: 0.0121\n",
            "Epoch 31/60\n",
            "235/235 [==============================] - 2s 6ms/step - loss: 0.1302 - accuracy: 0.0133 - val_loss: 0.1317 - val_accuracy: 0.0127\n",
            "Epoch 32/60\n",
            "235/235 [==============================] - 1s 5ms/step - loss: 0.1298 - accuracy: 0.0128 - val_loss: 0.1313 - val_accuracy: 0.0114\n",
            "Epoch 33/60\n",
            "235/235 [==============================] - 1s 5ms/step - loss: 0.1295 - accuracy: 0.0132 - val_loss: 0.1313 - val_accuracy: 0.0114\n",
            "Epoch 34/60\n",
            "235/235 [==============================] - 2s 8ms/step - loss: 0.1293 - accuracy: 0.0131 - val_loss: 0.1313 - val_accuracy: 0.0109\n",
            "Epoch 35/60\n",
            "235/235 [==============================] - 1s 6ms/step - loss: 0.1290 - accuracy: 0.0137 - val_loss: 0.1310 - val_accuracy: 0.0125\n",
            "Epoch 36/60\n",
            "235/235 [==============================] - 1s 6ms/step - loss: 0.1288 - accuracy: 0.0142 - val_loss: 0.1308 - val_accuracy: 0.0128\n",
            "Epoch 37/60\n",
            "235/235 [==============================] - 1s 5ms/step - loss: 0.1285 - accuracy: 0.0134 - val_loss: 0.1307 - val_accuracy: 0.0160\n",
            "Epoch 38/60\n",
            "235/235 [==============================] - 1s 5ms/step - loss: 0.1283 - accuracy: 0.0138 - val_loss: 0.1304 - val_accuracy: 0.0149\n",
            "Epoch 39/60\n",
            "235/235 [==============================] - 1s 6ms/step - loss: 0.1281 - accuracy: 0.0138 - val_loss: 0.1302 - val_accuracy: 0.0145\n",
            "Epoch 40/60\n",
            "235/235 [==============================] - 1s 5ms/step - loss: 0.1279 - accuracy: 0.0138 - val_loss: 0.1304 - val_accuracy: 0.0129\n",
            "Epoch 41/60\n",
            "235/235 [==============================] - 1s 6ms/step - loss: 0.1277 - accuracy: 0.0139 - val_loss: 0.1301 - val_accuracy: 0.0120\n",
            "Epoch 42/60\n",
            "235/235 [==============================] - 1s 6ms/step - loss: 0.1275 - accuracy: 0.0135 - val_loss: 0.1302 - val_accuracy: 0.0132\n",
            "Epoch 43/60\n",
            "235/235 [==============================] - 2s 7ms/step - loss: 0.1272 - accuracy: 0.0137 - val_loss: 0.1298 - val_accuracy: 0.0137\n",
            "Epoch 44/60\n",
            "235/235 [==============================] - 1s 6ms/step - loss: 0.1271 - accuracy: 0.0138 - val_loss: 0.1296 - val_accuracy: 0.0159\n",
            "Epoch 45/60\n",
            "235/235 [==============================] - 1s 5ms/step - loss: 0.1269 - accuracy: 0.0139 - val_loss: 0.1295 - val_accuracy: 0.0152\n",
            "Epoch 46/60\n",
            "235/235 [==============================] - 1s 5ms/step - loss: 0.1267 - accuracy: 0.0136 - val_loss: 0.1295 - val_accuracy: 0.0161\n",
            "Epoch 47/60\n",
            "235/235 [==============================] - 1s 5ms/step - loss: 0.1266 - accuracy: 0.0136 - val_loss: 0.1293 - val_accuracy: 0.0142\n",
            "Epoch 48/60\n",
            "235/235 [==============================] - 1s 5ms/step - loss: 0.1264 - accuracy: 0.0141 - val_loss: 0.1295 - val_accuracy: 0.0143\n",
            "Epoch 49/60\n",
            "235/235 [==============================] - 1s 5ms/step - loss: 0.1263 - accuracy: 0.0139 - val_loss: 0.1294 - val_accuracy: 0.0138\n",
            "Epoch 50/60\n",
            "235/235 [==============================] - 1s 5ms/step - loss: 0.1262 - accuracy: 0.0140 - val_loss: 0.1295 - val_accuracy: 0.0140\n",
            "Epoch 51/60\n",
            "235/235 [==============================] - 2s 7ms/step - loss: 0.1260 - accuracy: 0.0129 - val_loss: 0.1292 - val_accuracy: 0.0163\n",
            "Epoch 52/60\n",
            "235/235 [==============================] - 2s 8ms/step - loss: 0.1258 - accuracy: 0.0139 - val_loss: 0.1292 - val_accuracy: 0.0158\n",
            "Epoch 53/60\n",
            "235/235 [==============================] - 1s 6ms/step - loss: 0.1257 - accuracy: 0.0143 - val_loss: 0.1290 - val_accuracy: 0.0137\n",
            "Epoch 54/60\n",
            "235/235 [==============================] - 1s 6ms/step - loss: 0.1256 - accuracy: 0.0145 - val_loss: 0.1290 - val_accuracy: 0.0140\n",
            "Epoch 55/60\n",
            "235/235 [==============================] - 1s 6ms/step - loss: 0.1255 - accuracy: 0.0146 - val_loss: 0.1289 - val_accuracy: 0.0144\n",
            "Epoch 56/60\n",
            "235/235 [==============================] - 1s 6ms/step - loss: 0.1254 - accuracy: 0.0147 - val_loss: 0.1287 - val_accuracy: 0.0145\n",
            "Epoch 57/60\n",
            "235/235 [==============================] - 1s 6ms/step - loss: 0.1252 - accuracy: 0.0139 - val_loss: 0.1288 - val_accuracy: 0.0159\n",
            "Epoch 58/60\n",
            "235/235 [==============================] - 1s 6ms/step - loss: 0.1251 - accuracy: 0.0146 - val_loss: 0.1288 - val_accuracy: 0.0158\n",
            "Epoch 59/60\n",
            "235/235 [==============================] - 1s 6ms/step - loss: 0.1250 - accuracy: 0.0138 - val_loss: 0.1288 - val_accuracy: 0.0135\n",
            "Epoch 60/60\n",
            "235/235 [==============================] - 2s 7ms/step - loss: 0.1249 - accuracy: 0.0137 - val_loss: 0.1288 - val_accuracy: 0.0153\n",
            "CPU times: user 1min 30s, sys: 7.07 s, total: 1min 37s\n",
            "Wall time: 2min 24s\n"
          ]
        },
        {
          "output_type": "execute_result",
          "data": {
            "text/plain": [
              "<keras.callbacks.History at 0x7fa53402ad90>"
            ]
          },
          "metadata": {},
          "execution_count": 22
        }
      ]
    },
    {
      "cell_type": "markdown",
      "metadata": {
        "id": "G7p7EaOIozaU"
      },
      "source": [
        "# V. Model Predict"
      ]
    },
    {
      "cell_type": "markdown",
      "metadata": {
        "id": "zS4gZIXIo_H_"
      },
      "source": [
        "> ## 1) Imgae Encoding\n",
        "\n",
        "* Create 'Latent Space'"
      ]
    },
    {
      "cell_type": "code",
      "metadata": {
        "id": "ZdCO6BgLDZ7a",
        "colab": {
          "base_uri": "https://localhost:8080/"
        },
        "outputId": "c244d75f-bfda-4976-8edf-f2e324d3647c"
      },
      "source": [
        "encoded_imgs = encoder.predict(X_test, verbose = 0)\n",
        "\n",
        "encoded_imgs.shape"
      ],
      "execution_count": 23,
      "outputs": [
        {
          "output_type": "execute_result",
          "data": {
            "text/plain": [
              "(10000, 5)"
            ]
          },
          "metadata": {},
          "execution_count": 23
        }
      ]
    },
    {
      "cell_type": "markdown",
      "metadata": {
        "id": "b5tAly4GpGBQ"
      },
      "source": [
        "> ## 2) 'Latent Space' Decoding"
      ]
    },
    {
      "cell_type": "code",
      "metadata": {
        "id": "n4hzRc7spLw3",
        "colab": {
          "base_uri": "https://localhost:8080/"
        },
        "outputId": "1c307069-dffd-482b-89f6-8249685813d1"
      },
      "source": [
        "decoded_imgs = decoder.predict(encoded_imgs, verbose = 0)\n",
        "\n",
        "decoded_imgs.shape"
      ],
      "execution_count": 24,
      "outputs": [
        {
          "output_type": "execute_result",
          "data": {
            "text/plain": [
              "(10000, 784)"
            ]
          },
          "metadata": {},
          "execution_count": 24
        }
      ]
    },
    {
      "cell_type": "markdown",
      "metadata": {
        "id": "FgQjGRiHpYQp"
      },
      "source": [
        "# VI. Visualization"
      ]
    },
    {
      "cell_type": "markdown",
      "source": [
        "> ## 1) decoder - 'decoder_imgs'"
      ],
      "metadata": {
        "id": "Lu_7TcDWY2fS"
      }
    },
    {
      "cell_type": "code",
      "metadata": {
        "id": "aDhvHjEKDesr",
        "colab": {
          "base_uri": "https://localhost:8080/",
          "height": 212
        },
        "outputId": "5d3acd60-5999-4c1d-945e-b81777afd747"
      },
      "source": [
        "import matplotlib.pyplot as plt\n",
        "\n",
        "n = 10\n",
        "\n",
        "plt.figure(figsize = (20, 4))\n",
        "for i in range(n):\n",
        "\n",
        "    ax = plt.subplot(2, n, i + 1)\n",
        "    plt.imshow(X_test[i].reshape(28, 28))\n",
        "    plt.gray()\n",
        "    ax.get_xaxis().set_visible(False)\n",
        "    ax.get_yaxis().set_visible(False)\n",
        "\n",
        "    ax = plt.subplot(2, n, i + 1 + n)\n",
        "    plt.imshow(decoded_imgs[i].reshape(28, 28))\n",
        "    plt.gray()\n",
        "    ax.get_xaxis().set_visible(False)\n",
        "    ax.get_yaxis().set_visible(False)\n",
        "\n",
        "plt.show()"
      ],
      "execution_count": 25,
      "outputs": [
        {
          "output_type": "display_data",
          "data": {
            "text/plain": [
              "<Figure size 2000x400 with 20 Axes>"
            ],
            "image/png": "[encoded data removed]"
          },
          "metadata": {}
        }
      ]
    },
    {
      "cell_type": "markdown",
      "metadata": {
        "id": "afj2ZM1OPVO_"
      },
      "source": [
        "# \n",
        "# \n",
        "# \n",
        "# The End\n",
        "# \n",
        "# \n",
        "# "
      ]
    },
    {
      "cell_type": "code",
      "source": [],
      "metadata": {
        "id": "EWSj9Q9_cuH7"
      },
      "execution_count": null,
      "outputs": []
    }
  ]
}